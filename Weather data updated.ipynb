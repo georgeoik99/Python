{
 "cells": [
  {
   "cell_type": "markdown",
   "id": "514df6fc",
   "metadata": {},
   "source": [
    "<p><img src=\"https://pbs.twimg.com/card_img/1620112841331073031/nIAlo0vh?format=jpg&name=medium\"></p> "
   ]
  },
  {
   "cell_type": "markdown",
   "id": "edd903c5",
   "metadata": {},
   "source": [
    "## In this data analysis project, we will focus on weather data recorded in Athens, in the year 2017. We will analyze and draw insights from meteorological parameters such as temperature, wind direction, wind speed, to gain a better understanding of the weather patterns in Athens during that year.  "
   ]
  },
  {
   "cell_type": "markdown",
   "id": "397f6e9f",
   "metadata": {},
   "source": [
    "### The analysis will be separated in three parts"
   ]
  },
  {
   "cell_type": "markdown",
   "id": "124ddb52",
   "metadata": {},
   "source": [
    "<p> 1.Data preparation and cleaning </p>\n",
    "<p> 2.Exploratory data / visualize  </p>\n",
    "<p> 3.Predictions using linear regression</p>"
   ]
  },
  {
   "cell_type": "code",
   "execution_count": 5,
   "id": "41d88e5e",
   "metadata": {},
   "outputs": [
    {
     "data": {
      "text/html": [
       "<div>\n",
       "<style scoped>\n",
       "    .dataframe tbody tr th:only-of-type {\n",
       "        vertical-align: middle;\n",
       "    }\n",
       "\n",
       "    .dataframe tbody tr th {\n",
       "        vertical-align: top;\n",
       "    }\n",
       "\n",
       "    .dataframe thead th {\n",
       "        text-align: right;\n",
       "    }\n",
       "</style>\n",
       "<table border=\"1\" class=\"dataframe\">\n",
       "  <thead>\n",
       "    <tr style=\"text-align: right;\">\n",
       "      <th></th>\n",
       "      <th>MONTH</th>\n",
       "      <th>DAY</th>\n",
       "      <th>TEMP</th>\n",
       "      <th>HIGH</th>\n",
       "      <th>TIME</th>\n",
       "      <th>LOW</th>\n",
       "      <th>TIME.1</th>\n",
       "      <th>HDD</th>\n",
       "      <th>CDD</th>\n",
       "      <th>RAIN</th>\n",
       "      <th>W_SPEED</th>\n",
       "      <th>WINDHIGH</th>\n",
       "      <th>TIME.2</th>\n",
       "      <th>DIR</th>\n",
       "    </tr>\n",
       "  </thead>\n",
       "  <tbody>\n",
       "    <tr>\n",
       "      <th>0</th>\n",
       "      <td>JAN</td>\n",
       "      <td>1</td>\n",
       "      <td>4.4</td>\n",
       "      <td>7.2</td>\n",
       "      <td>15:10</td>\n",
       "      <td>2.6</td>\n",
       "      <td>7:20</td>\n",
       "      <td>13.9</td>\n",
       "      <td>0.0</td>\n",
       "      <td>0.0</td>\n",
       "      <td>4.0</td>\n",
       "      <td>29.0</td>\n",
       "      <td>12:10</td>\n",
       "      <td>N</td>\n",
       "    </tr>\n",
       "    <tr>\n",
       "      <th>1</th>\n",
       "      <td>JAN</td>\n",
       "      <td>2</td>\n",
       "      <td>7.2</td>\n",
       "      <td>11.3</td>\n",
       "      <td>14:40</td>\n",
       "      <td>3.1</td>\n",
       "      <td>0:40</td>\n",
       "      <td>11.2</td>\n",
       "      <td>0.0</td>\n",
       "      <td>0.0</td>\n",
       "      <td>2.7</td>\n",
       "      <td>24.1</td>\n",
       "      <td>20:40</td>\n",
       "      <td>W</td>\n",
       "    </tr>\n",
       "    <tr>\n",
       "      <th>2</th>\n",
       "      <td>JAN</td>\n",
       "      <td>3</td>\n",
       "      <td>9.6</td>\n",
       "      <td>13.3</td>\n",
       "      <td>14:50</td>\n",
       "      <td>6.6</td>\n",
       "      <td>8:20</td>\n",
       "      <td>8.8</td>\n",
       "      <td>0.0</td>\n",
       "      <td>0.0</td>\n",
       "      <td>4.5</td>\n",
       "      <td>30.6</td>\n",
       "      <td>14:20</td>\n",
       "      <td>SW</td>\n",
       "    </tr>\n",
       "    <tr>\n",
       "      <th>3</th>\n",
       "      <td>JAN</td>\n",
       "      <td>4</td>\n",
       "      <td>10.7</td>\n",
       "      <td>14.3</td>\n",
       "      <td>15:20</td>\n",
       "      <td>7.6</td>\n",
       "      <td>3:30</td>\n",
       "      <td>7.7</td>\n",
       "      <td>0.0</td>\n",
       "      <td>0.0</td>\n",
       "      <td>3.2</td>\n",
       "      <td>24.1</td>\n",
       "      <td>14:40</td>\n",
       "      <td>SSW</td>\n",
       "    </tr>\n",
       "    <tr>\n",
       "      <th>4</th>\n",
       "      <td>JAN</td>\n",
       "      <td>5</td>\n",
       "      <td>12.2</td>\n",
       "      <td>15.4</td>\n",
       "      <td>13:50</td>\n",
       "      <td>8.7</td>\n",
       "      <td>7:50</td>\n",
       "      <td>6.2</td>\n",
       "      <td>0.0</td>\n",
       "      <td>0.0</td>\n",
       "      <td>7.7</td>\n",
       "      <td>56.3</td>\n",
       "      <td>0:00</td>\n",
       "      <td>S</td>\n",
       "    </tr>\n",
       "    <tr>\n",
       "      <th>...</th>\n",
       "      <td>...</td>\n",
       "      <td>...</td>\n",
       "      <td>...</td>\n",
       "      <td>...</td>\n",
       "      <td>...</td>\n",
       "      <td>...</td>\n",
       "      <td>...</td>\n",
       "      <td>...</td>\n",
       "      <td>...</td>\n",
       "      <td>...</td>\n",
       "      <td>...</td>\n",
       "      <td>...</td>\n",
       "      <td>...</td>\n",
       "      <td>...</td>\n",
       "    </tr>\n",
       "    <tr>\n",
       "      <th>360</th>\n",
       "      <td></td>\n",
       "      <td>27</td>\n",
       "      <td>11.9</td>\n",
       "      <td>15.8</td>\n",
       "      <td>14:30</td>\n",
       "      <td>8.5</td>\n",
       "      <td>8:10</td>\n",
       "      <td>6.4</td>\n",
       "      <td>0.0</td>\n",
       "      <td>0.2</td>\n",
       "      <td>3.9</td>\n",
       "      <td>24.1</td>\n",
       "      <td>22:50</td>\n",
       "      <td>S</td>\n",
       "    </tr>\n",
       "    <tr>\n",
       "      <th>361</th>\n",
       "      <td></td>\n",
       "      <td>28</td>\n",
       "      <td>13.0</td>\n",
       "      <td>14.9</td>\n",
       "      <td>14:10</td>\n",
       "      <td>11.3</td>\n",
       "      <td>2:20</td>\n",
       "      <td>5.3</td>\n",
       "      <td>0.0</td>\n",
       "      <td>6.6</td>\n",
       "      <td>11.4</td>\n",
       "      <td>56.3</td>\n",
       "      <td>18:40</td>\n",
       "      <td>S</td>\n",
       "    </tr>\n",
       "    <tr>\n",
       "      <th>362</th>\n",
       "      <td></td>\n",
       "      <td>29</td>\n",
       "      <td>11.3</td>\n",
       "      <td>14.8</td>\n",
       "      <td>14:40</td>\n",
       "      <td>8.4</td>\n",
       "      <td>5:30</td>\n",
       "      <td>7.1</td>\n",
       "      <td>0.0</td>\n",
       "      <td>15.6</td>\n",
       "      <td>4.8</td>\n",
       "      <td>37.0</td>\n",
       "      <td>13:10</td>\n",
       "      <td>SSW</td>\n",
       "    </tr>\n",
       "    <tr>\n",
       "      <th>363</th>\n",
       "      <td></td>\n",
       "      <td>30</td>\n",
       "      <td>9.9</td>\n",
       "      <td>13.1</td>\n",
       "      <td>13:50</td>\n",
       "      <td>7.8</td>\n",
       "      <td>23:10</td>\n",
       "      <td>8.4</td>\n",
       "      <td>0.0</td>\n",
       "      <td>0.2</td>\n",
       "      <td>3.9</td>\n",
       "      <td>25.7</td>\n",
       "      <td>11:30</td>\n",
       "      <td>SSW</td>\n",
       "    </tr>\n",
       "    <tr>\n",
       "      <th>364</th>\n",
       "      <td></td>\n",
       "      <td>31</td>\n",
       "      <td>8.9</td>\n",
       "      <td>12.6</td>\n",
       "      <td>14:20</td>\n",
       "      <td>6.9</td>\n",
       "      <td>4:50</td>\n",
       "      <td>9.4</td>\n",
       "      <td>0.0</td>\n",
       "      <td>0.0</td>\n",
       "      <td>4.3</td>\n",
       "      <td>25.7</td>\n",
       "      <td>10:00</td>\n",
       "      <td>WNW</td>\n",
       "    </tr>\n",
       "  </tbody>\n",
       "</table>\n",
       "<p>365 rows × 14 columns</p>\n",
       "</div>"
      ],
      "text/plain": [
       "    MONTH  DAY  TEMP  HIGH   TIME   LOW TIME.1   HDD  CDD  RAIN  W_SPEED  \\\n",
       "0     JAN    1   4.4   7.2  15:10   2.6   7:20  13.9  0.0   0.0      4.0   \n",
       "1     JAN    2   7.2  11.3  14:40   3.1   0:40  11.2  0.0   0.0      2.7   \n",
       "2     JAN    3   9.6  13.3  14:50   6.6   8:20   8.8  0.0   0.0      4.5   \n",
       "3     JAN    4  10.7  14.3  15:20   7.6   3:30   7.7  0.0   0.0      3.2   \n",
       "4     JAN    5  12.2  15.4  13:50   8.7   7:50   6.2  0.0   0.0      7.7   \n",
       "..    ...  ...   ...   ...    ...   ...    ...   ...  ...   ...      ...   \n",
       "360         27  11.9  15.8  14:30   8.5   8:10   6.4  0.0   0.2      3.9   \n",
       "361         28  13.0  14.9  14:10  11.3   2:20   5.3  0.0   6.6     11.4   \n",
       "362         29  11.3  14.8  14:40   8.4   5:30   7.1  0.0  15.6      4.8   \n",
       "363         30   9.9  13.1  13:50   7.8  23:10   8.4  0.0   0.2      3.9   \n",
       "364         31   8.9  12.6  14:20   6.9   4:50   9.4  0.0   0.0      4.3   \n",
       "\n",
       "     WINDHIGH TIME.2  DIR  \n",
       "0        29.0  12:10    N  \n",
       "1        24.1  20:40    W  \n",
       "2        30.6  14:20   SW  \n",
       "3        24.1  14:40  SSW  \n",
       "4        56.3   0:00    S  \n",
       "..        ...    ...  ...  \n",
       "360      24.1  22:50    S  \n",
       "361      56.3  18:40    S  \n",
       "362      37.0  13:10  SSW  \n",
       "363      25.7  11:30  SSW  \n",
       "364      25.7  10:00  WNW  \n",
       "\n",
       "[365 rows x 14 columns]"
      ]
     },
     "execution_count": 5,
     "metadata": {},
     "output_type": "execute_result"
    }
   ],
   "source": [
    "import pandas as pd\n",
    "import numpy as np\n",
    "import matplotlib.pyplot as plt\n",
    "from scipy.interpolate import interp1d\n",
    "from sklearn.linear_model import LinearRegression\n",
    "import seaborn as sns\n",
    "\n",
    "df = pd.DataFrame(pd.read_csv(r'C:/Users/User/OneDrive/Υπολογιστής/PYTHON/weather_data.csv'))\n",
    "pd.set_option('display.max_columns',None)\n",
    "df"
   ]
  },
  {
   "cell_type": "markdown",
   "id": "d9a7727a",
   "metadata": {},
   "source": [
    "## 1.Data preparation and cleaning "
   ]
  },
  {
   "cell_type": "markdown",
   "id": "f614f176",
   "metadata": {},
   "source": [
    "<p> Some mistakes in months exists and there are 4 missing values , 2 in Hight temperature and 2 in Low. Also some columns have wrond data types. Thus our data are noisy right now. </p>"
   ]
  },
  {
   "cell_type": "markdown",
   "id": "7f1bf580",
   "metadata": {},
   "source": [
    "<p> We will use cubic interpolation in order to replace these missing value. Instead of interpolating all the dataframe we will aproach these NaN values with the 3 before and 3 after values from every missing value, to get a better result. Also we will clean the Month column and the data types from HIGHT and LOW columns</p>"
   ]
  },
  {
   "cell_type": "code",
   "execution_count": 6,
   "id": "cb94d0a5",
   "metadata": {},
   "outputs": [
    {
     "name": "stdout",
     "output_type": "stream",
     "text": [
      "<class 'pandas.core.frame.DataFrame'>\n",
      "RangeIndex: 365 entries, 0 to 364\n",
      "Data columns (total 14 columns):\n",
      " #   Column    Non-Null Count  Dtype  \n",
      "---  ------    --------------  -----  \n",
      " 0   MONTH     365 non-null    object \n",
      " 1   DAY       365 non-null    int64  \n",
      " 2   TEMP      365 non-null    float64\n",
      " 3   HIGH      365 non-null    object \n",
      " 4   TIME      365 non-null    object \n",
      " 5   LOW       365 non-null    object \n",
      " 6   TIME.1    365 non-null    object \n",
      " 7   HDD       365 non-null    float64\n",
      " 8   CDD       365 non-null    float64\n",
      " 9   RAIN      365 non-null    float64\n",
      " 10  W_SPEED   365 non-null    float64\n",
      " 11  WINDHIGH  365 non-null    float64\n",
      " 12  TIME.2    365 non-null    object \n",
      " 13  DIR       365 non-null    object \n",
      "dtypes: float64(6), int64(1), object(7)\n",
      "memory usage: 40.0+ KB\n"
     ]
    }
   ],
   "source": [
    "df.info()"
   ]
  },
  {
   "cell_type": "code",
   "execution_count": 7,
   "id": "d1cec949",
   "metadata": {},
   "outputs": [
    {
     "data": {
      "text/plain": [
       "MONTH       0\n",
       "DAY         0\n",
       "TEMP        0\n",
       "HIGH        0\n",
       "TIME        0\n",
       "LOW         0\n",
       "TIME.1      0\n",
       "HDD         0\n",
       "CDD         0\n",
       "RAIN        0\n",
       "W_SPEED     0\n",
       "WINDHIGH    0\n",
       "TIME.2      0\n",
       "DIR         0\n",
       "dtype: int64"
      ]
     },
     "execution_count": 7,
     "metadata": {},
     "output_type": "execute_result"
    }
   ],
   "source": [
    "df.isna().sum() #we can see that we have 4 NaN values"
   ]
  },
  {
   "cell_type": "code",
   "execution_count": 8,
   "id": "2eb22b42",
   "metadata": {},
   "outputs": [
    {
     "data": {
      "text/html": [
       "<div>\n",
       "<style scoped>\n",
       "    .dataframe tbody tr th:only-of-type {\n",
       "        vertical-align: middle;\n",
       "    }\n",
       "\n",
       "    .dataframe tbody tr th {\n",
       "        vertical-align: top;\n",
       "    }\n",
       "\n",
       "    .dataframe thead th {\n",
       "        text-align: right;\n",
       "    }\n",
       "</style>\n",
       "<table border=\"1\" class=\"dataframe\">\n",
       "  <thead>\n",
       "    <tr style=\"text-align: right;\">\n",
       "      <th></th>\n",
       "      <th>MONTH</th>\n",
       "      <th>DAY</th>\n",
       "      <th>TEMP</th>\n",
       "      <th>HIGH</th>\n",
       "      <th>TIME</th>\n",
       "      <th>LOW</th>\n",
       "      <th>TIME.1</th>\n",
       "      <th>HDD</th>\n",
       "      <th>CDD</th>\n",
       "      <th>RAIN</th>\n",
       "      <th>W_SPEED</th>\n",
       "      <th>WINDHIGH</th>\n",
       "      <th>TIME.2</th>\n",
       "      <th>DIR</th>\n",
       "    </tr>\n",
       "  </thead>\n",
       "  <tbody>\n",
       "    <tr>\n",
       "      <th>0</th>\n",
       "      <td>JAN</td>\n",
       "      <td>1</td>\n",
       "      <td>4.4</td>\n",
       "      <td>7.2</td>\n",
       "      <td>15:10</td>\n",
       "      <td>2.6</td>\n",
       "      <td>7:20</td>\n",
       "      <td>13.9</td>\n",
       "      <td>0.0</td>\n",
       "      <td>0.0</td>\n",
       "      <td>4.0</td>\n",
       "      <td>29.0</td>\n",
       "      <td>12:10</td>\n",
       "      <td>N</td>\n",
       "    </tr>\n",
       "    <tr>\n",
       "      <th>1</th>\n",
       "      <td>JAN</td>\n",
       "      <td>2</td>\n",
       "      <td>7.2</td>\n",
       "      <td>11.3</td>\n",
       "      <td>14:40</td>\n",
       "      <td>3.1</td>\n",
       "      <td>0:40</td>\n",
       "      <td>11.2</td>\n",
       "      <td>0.0</td>\n",
       "      <td>0.0</td>\n",
       "      <td>2.7</td>\n",
       "      <td>24.1</td>\n",
       "      <td>20:40</td>\n",
       "      <td>W</td>\n",
       "    </tr>\n",
       "    <tr>\n",
       "      <th>2</th>\n",
       "      <td>JAN</td>\n",
       "      <td>3</td>\n",
       "      <td>9.6</td>\n",
       "      <td>13.3</td>\n",
       "      <td>14:50</td>\n",
       "      <td>6.6</td>\n",
       "      <td>8:20</td>\n",
       "      <td>8.8</td>\n",
       "      <td>0.0</td>\n",
       "      <td>0.0</td>\n",
       "      <td>4.5</td>\n",
       "      <td>30.6</td>\n",
       "      <td>14:20</td>\n",
       "      <td>SW</td>\n",
       "    </tr>\n",
       "    <tr>\n",
       "      <th>3</th>\n",
       "      <td>JAN</td>\n",
       "      <td>4</td>\n",
       "      <td>10.7</td>\n",
       "      <td>14.3</td>\n",
       "      <td>15:20</td>\n",
       "      <td>7.6</td>\n",
       "      <td>3:30</td>\n",
       "      <td>7.7</td>\n",
       "      <td>0.0</td>\n",
       "      <td>0.0</td>\n",
       "      <td>3.2</td>\n",
       "      <td>24.1</td>\n",
       "      <td>14:40</td>\n",
       "      <td>SSW</td>\n",
       "    </tr>\n",
       "    <tr>\n",
       "      <th>4</th>\n",
       "      <td>JAN</td>\n",
       "      <td>5</td>\n",
       "      <td>12.2</td>\n",
       "      <td>15.4</td>\n",
       "      <td>13:50</td>\n",
       "      <td>8.7</td>\n",
       "      <td>7:50</td>\n",
       "      <td>6.2</td>\n",
       "      <td>0.0</td>\n",
       "      <td>0.0</td>\n",
       "      <td>7.7</td>\n",
       "      <td>56.3</td>\n",
       "      <td>0:00</td>\n",
       "      <td>S</td>\n",
       "    </tr>\n",
       "    <tr>\n",
       "      <th>...</th>\n",
       "      <td>...</td>\n",
       "      <td>...</td>\n",
       "      <td>...</td>\n",
       "      <td>...</td>\n",
       "      <td>...</td>\n",
       "      <td>...</td>\n",
       "      <td>...</td>\n",
       "      <td>...</td>\n",
       "      <td>...</td>\n",
       "      <td>...</td>\n",
       "      <td>...</td>\n",
       "      <td>...</td>\n",
       "      <td>...</td>\n",
       "      <td>...</td>\n",
       "    </tr>\n",
       "    <tr>\n",
       "      <th>360</th>\n",
       "      <td>DEC</td>\n",
       "      <td>27</td>\n",
       "      <td>11.9</td>\n",
       "      <td>15.8</td>\n",
       "      <td>14:30</td>\n",
       "      <td>8.5</td>\n",
       "      <td>8:10</td>\n",
       "      <td>6.4</td>\n",
       "      <td>0.0</td>\n",
       "      <td>0.2</td>\n",
       "      <td>3.9</td>\n",
       "      <td>24.1</td>\n",
       "      <td>22:50</td>\n",
       "      <td>S</td>\n",
       "    </tr>\n",
       "    <tr>\n",
       "      <th>361</th>\n",
       "      <td>DEC</td>\n",
       "      <td>28</td>\n",
       "      <td>13.0</td>\n",
       "      <td>14.9</td>\n",
       "      <td>14:10</td>\n",
       "      <td>11.3</td>\n",
       "      <td>2:20</td>\n",
       "      <td>5.3</td>\n",
       "      <td>0.0</td>\n",
       "      <td>6.6</td>\n",
       "      <td>11.4</td>\n",
       "      <td>56.3</td>\n",
       "      <td>18:40</td>\n",
       "      <td>S</td>\n",
       "    </tr>\n",
       "    <tr>\n",
       "      <th>362</th>\n",
       "      <td>DEC</td>\n",
       "      <td>29</td>\n",
       "      <td>11.3</td>\n",
       "      <td>14.8</td>\n",
       "      <td>14:40</td>\n",
       "      <td>8.4</td>\n",
       "      <td>5:30</td>\n",
       "      <td>7.1</td>\n",
       "      <td>0.0</td>\n",
       "      <td>15.6</td>\n",
       "      <td>4.8</td>\n",
       "      <td>37.0</td>\n",
       "      <td>13:10</td>\n",
       "      <td>SSW</td>\n",
       "    </tr>\n",
       "    <tr>\n",
       "      <th>363</th>\n",
       "      <td>DEC</td>\n",
       "      <td>30</td>\n",
       "      <td>9.9</td>\n",
       "      <td>13.1</td>\n",
       "      <td>13:50</td>\n",
       "      <td>7.8</td>\n",
       "      <td>23:10</td>\n",
       "      <td>8.4</td>\n",
       "      <td>0.0</td>\n",
       "      <td>0.2</td>\n",
       "      <td>3.9</td>\n",
       "      <td>25.7</td>\n",
       "      <td>11:30</td>\n",
       "      <td>SSW</td>\n",
       "    </tr>\n",
       "    <tr>\n",
       "      <th>364</th>\n",
       "      <td>DEC</td>\n",
       "      <td>31</td>\n",
       "      <td>8.9</td>\n",
       "      <td>12.6</td>\n",
       "      <td>14:20</td>\n",
       "      <td>6.9</td>\n",
       "      <td>4:50</td>\n",
       "      <td>9.4</td>\n",
       "      <td>0.0</td>\n",
       "      <td>0.0</td>\n",
       "      <td>4.3</td>\n",
       "      <td>25.7</td>\n",
       "      <td>10:00</td>\n",
       "      <td>WNW</td>\n",
       "    </tr>\n",
       "  </tbody>\n",
       "</table>\n",
       "<p>365 rows × 14 columns</p>\n",
       "</div>"
      ],
      "text/plain": [
       "    MONTH  DAY  TEMP  HIGH   TIME   LOW TIME.1   HDD  CDD  RAIN  W_SPEED  \\\n",
       "0     JAN    1   4.4   7.2  15:10   2.6   7:20  13.9  0.0   0.0      4.0   \n",
       "1     JAN    2   7.2  11.3  14:40   3.1   0:40  11.2  0.0   0.0      2.7   \n",
       "2     JAN    3   9.6  13.3  14:50   6.6   8:20   8.8  0.0   0.0      4.5   \n",
       "3     JAN    4  10.7  14.3  15:20   7.6   3:30   7.7  0.0   0.0      3.2   \n",
       "4     JAN    5  12.2  15.4  13:50   8.7   7:50   6.2  0.0   0.0      7.7   \n",
       "..    ...  ...   ...   ...    ...   ...    ...   ...  ...   ...      ...   \n",
       "360   DEC   27  11.9  15.8  14:30   8.5   8:10   6.4  0.0   0.2      3.9   \n",
       "361   DEC   28  13.0  14.9  14:10  11.3   2:20   5.3  0.0   6.6     11.4   \n",
       "362   DEC   29  11.3  14.8  14:40   8.4   5:30   7.1  0.0  15.6      4.8   \n",
       "363   DEC   30   9.9  13.1  13:50   7.8  23:10   8.4  0.0   0.2      3.9   \n",
       "364   DEC   31   8.9  12.6  14:20   6.9   4:50   9.4  0.0   0.0      4.3   \n",
       "\n",
       "     WINDHIGH TIME.2  DIR  \n",
       "0        29.0  12:10    N  \n",
       "1        24.1  20:40    W  \n",
       "2        30.6  14:20   SW  \n",
       "3        24.1  14:40  SSW  \n",
       "4        56.3   0:00    S  \n",
       "..        ...    ...  ...  \n",
       "360      24.1  22:50    S  \n",
       "361      56.3  18:40    S  \n",
       "362      37.0  13:10  SSW  \n",
       "363      25.7  11:30  SSW  \n",
       "364      25.7  10:00  WNW  \n",
       "\n",
       "[365 rows x 14 columns]"
      ]
     },
     "execution_count": 8,
     "metadata": {},
     "output_type": "execute_result"
    }
   ],
   "source": [
    "df['MONTH'] = df['MONTH'].replace({' ' : 'DEC'}, regex=True)\n",
    "df['MONTH'] = df['MONTH'].replace({'DECDEC' : 'DEC'}, regex=True)\n",
    "df['MONTH'] = df['MONTH'].replace({'JOU' : 'JUN'}, regex=True)\n",
    "df['HIGH'] = pd.to_numeric(df['HIGH'],errors = 'coerce')\n",
    "df['LOW'] = pd.to_numeric(df['LOW'],errors = 'coerce')\n",
    "df"
   ]
  },
  {
   "cell_type": "code",
   "execution_count": 9,
   "id": "6cc97a65",
   "metadata": {
    "scrolled": false
   },
   "outputs": [
    {
     "name": "stdout",
     "output_type": "stream",
     "text": [
      "<class 'pandas.core.frame.DataFrame'>\n",
      "RangeIndex: 365 entries, 0 to 364\n",
      "Data columns (total 14 columns):\n",
      " #   Column    Non-Null Count  Dtype  \n",
      "---  ------    --------------  -----  \n",
      " 0   MONTH     365 non-null    object \n",
      " 1   DAY       365 non-null    int64  \n",
      " 2   TEMP      365 non-null    float64\n",
      " 3   HIGH      363 non-null    float64\n",
      " 4   TIME      365 non-null    object \n",
      " 5   LOW       363 non-null    float64\n",
      " 6   TIME.1    365 non-null    object \n",
      " 7   HDD       365 non-null    float64\n",
      " 8   CDD       365 non-null    float64\n",
      " 9   RAIN      365 non-null    float64\n",
      " 10  W_SPEED   365 non-null    float64\n",
      " 11  WINDHIGH  365 non-null    float64\n",
      " 12  TIME.2    365 non-null    object \n",
      " 13  DIR       365 non-null    object \n",
      "dtypes: float64(8), int64(1), object(5)\n",
      "memory usage: 40.0+ KB\n"
     ]
    }
   ],
   "source": [
    "df['HIGH'] = pd.to_numeric(df['HIGH'],errors = 'coerce')\n",
    "df['LOW'] = pd.to_numeric(df['LOW'],errors = 'coerce')\n",
    "df.info()"
   ]
  },
  {
   "cell_type": "code",
   "execution_count": 10,
   "id": "5ff0bf18",
   "metadata": {},
   "outputs": [
    {
     "name": "stdout",
     "output_type": "stream",
     "text": [
      "14    12.700000\n",
      "15    12.300000\n",
      "16    12.500000\n",
      "17    13.915625\n",
      "18    12.900000\n",
      "19     7.800000\n",
      "20     9.200000\n",
      "Name: HIGH, dtype: float64\n",
      "58    18.10\n",
      "59    18.30\n",
      "60    15.40\n",
      "61    15.95\n",
      "62    18.20\n",
      "63    19.00\n",
      "64    17.90\n",
      "Name: HIGH, dtype: float64\n",
      "52     7.900\n",
      "53     9.200\n",
      "54    11.000\n",
      "55    12.075\n",
      "56    11.600\n",
      "57     9.600\n",
      "58     9.100\n",
      "Name: LOW, dtype: float64\n",
      "100    11.20000\n",
      "101    11.40000\n",
      "102    12.20000\n",
      "103    13.11875\n",
      "104    13.40000\n",
      "105    12.60000\n",
      "106    11.80000\n",
      "Name: LOW, dtype: float64\n"
     ]
    }
   ],
   "source": [
    "nan1=df.iloc[14:21,3].interpolate(method='cubic')\n",
    "print(nan1)\n",
    "nan2=df.iloc[58:65,3].interpolate(method='cubic')\n",
    "print(nan2)\n",
    "nan3=df.iloc[52:59,5].interpolate(method='cubic')\n",
    "print(nan3)\n",
    "nan4=df.iloc[100:107,5].interpolate(method='cubic')\n",
    "print(nan4)\n",
    "df.iloc[14:21,3]=nan1\n",
    "df.iloc[58:65,3]=nan2\n",
    "df.iloc[52:59,5]=nan3\n",
    "df.iloc[100:107,5]=nan4"
   ]
  },
  {
   "cell_type": "code",
   "execution_count": 7,
   "id": "56c3110b",
   "metadata": {},
   "outputs": [
    {
     "data": {
      "text/plain": [
       "42.1"
      ]
     },
     "execution_count": 7,
     "metadata": {},
     "output_type": "execute_result"
    }
   ],
   "source": [
    "df[\"HIGH\"].max()"
   ]
  },
  {
   "cell_type": "code",
   "execution_count": 9,
   "id": "d635768e",
   "metadata": {},
   "outputs": [
    {
     "data": {
      "text/plain": [
       "-2.9"
      ]
     },
     "execution_count": 9,
     "metadata": {},
     "output_type": "execute_result"
    }
   ],
   "source": [
    "df[\"LOW\"].min()"
   ]
  },
  {
   "cell_type": "code",
   "execution_count": 10,
   "id": "f185da54",
   "metadata": {},
   "outputs": [
    {
     "data": {
      "text/plain": [
       "64.4"
      ]
     },
     "execution_count": 10,
     "metadata": {},
     "output_type": "execute_result"
    }
   ],
   "source": [
    "df[\"WINDHIGH\"].max()"
   ]
  },
  {
   "cell_type": "code",
   "execution_count": 11,
   "id": "b175fdd7",
   "metadata": {},
   "outputs": [
    {
     "data": {
      "text/plain": [
       "617.8"
      ]
     },
     "execution_count": 11,
     "metadata": {},
     "output_type": "execute_result"
    }
   ],
   "source": [
    "df[\"RAIN\"].sum()"
   ]
  },
  {
   "cell_type": "code",
   "execution_count": 12,
   "id": "dd1bb46d",
   "metadata": {},
   "outputs": [
    {
     "data": {
      "text/plain": [
       "1318.4"
      ]
     },
     "execution_count": 12,
     "metadata": {},
     "output_type": "execute_result"
    }
   ],
   "source": [
    "df[\"HDD\"].sum()"
   ]
  },
  {
   "cell_type": "code",
   "execution_count": 13,
   "id": "bb51b2df",
   "metadata": {},
   "outputs": [
    {
     "data": {
      "text/plain": [
       "1056.2"
      ]
     },
     "execution_count": 13,
     "metadata": {},
     "output_type": "execute_result"
    }
   ],
   "source": [
    "df[\"CDD\"].sum()"
   ]
  },
  {
   "cell_type": "code",
   "execution_count": 50,
   "id": "2152bbd2",
   "metadata": {},
   "outputs": [
    {
     "data": {
      "text/plain": [
       "17.615890410958887"
      ]
     },
     "execution_count": 50,
     "metadata": {},
     "output_type": "execute_result"
    }
   ],
   "source": [
    "df[\"TEMP\"].mean()"
   ]
  },
  {
   "cell_type": "markdown",
   "id": "692ce7dc",
   "metadata": {},
   "source": [
    "#### we will append the DataFrame with a new row that calculates the mean from TEMP, max from HIGH, min from LOW , the sum from HDD, CDD, RAIN ( HDD Heating Degree Days, (CDD Cooling Degree Days) and the max from the highest wind speed"
   ]
  },
  {
   "cell_type": "code",
   "execution_count": 11,
   "id": "f266cfff",
   "metadata": {},
   "outputs": [
    {
     "data": {
      "text/html": [
       "<div>\n",
       "<style scoped>\n",
       "    .dataframe tbody tr th:only-of-type {\n",
       "        vertical-align: middle;\n",
       "    }\n",
       "\n",
       "    .dataframe tbody tr th {\n",
       "        vertical-align: top;\n",
       "    }\n",
       "\n",
       "    .dataframe thead th {\n",
       "        text-align: right;\n",
       "    }\n",
       "</style>\n",
       "<table border=\"1\" class=\"dataframe\">\n",
       "  <thead>\n",
       "    <tr style=\"text-align: right;\">\n",
       "      <th></th>\n",
       "      <th>MONTH</th>\n",
       "      <th>DAY</th>\n",
       "      <th>TEMP</th>\n",
       "      <th>HIGH</th>\n",
       "      <th>TIME</th>\n",
       "      <th>LOW</th>\n",
       "      <th>TIME.1</th>\n",
       "      <th>HDD</th>\n",
       "      <th>CDD</th>\n",
       "      <th>RAIN</th>\n",
       "      <th>W_SPEED</th>\n",
       "      <th>WINDHIGH</th>\n",
       "      <th>TIME.2</th>\n",
       "      <th>DIR</th>\n",
       "    </tr>\n",
       "  </thead>\n",
       "  <tbody>\n",
       "    <tr>\n",
       "      <th>0</th>\n",
       "      <td></td>\n",
       "      <td></td>\n",
       "      <td>17.61589</td>\n",
       "      <td>42.1</td>\n",
       "      <td></td>\n",
       "      <td>-2.9</td>\n",
       "      <td></td>\n",
       "      <td>1318.4</td>\n",
       "      <td>1056.2</td>\n",
       "      <td>617.8</td>\n",
       "      <td></td>\n",
       "      <td>64.4</td>\n",
       "      <td></td>\n",
       "      <td></td>\n",
       "    </tr>\n",
       "  </tbody>\n",
       "</table>\n",
       "</div>"
      ],
      "text/plain": [
       "  MONTH DAY      TEMP  HIGH TIME  LOW TIME.1     HDD     CDD   RAIN W_SPEED  \\\n",
       "0            17.61589  42.1      -2.9         1318.4  1056.2  617.8           \n",
       "\n",
       "   WINDHIGH TIME.2 DIR  \n",
       "0      64.4             "
      ]
     },
     "execution_count": 11,
     "metadata": {},
     "output_type": "execute_result"
    }
   ],
   "source": [
    "new_rowdf=pd.DataFrame({\"MONTH\":[''],\n",
    "                       \"DAY\":[''],\n",
    "                       \"TEMP\":[df[\"TEMP\"].mean()],\n",
    "                       \"HIGH\":[df[\"HIGH\"].max()],\n",
    "                       \"TIME\":[''],\n",
    "                       \"LOW\":[df[\"LOW\"].min()],\n",
    "                       \"TIME.1\":[''],\n",
    "                       \"HDD\":[df[\"HDD\"].sum()],\n",
    "                       \"CDD\":[df[\"CDD\"].sum()],\n",
    "                       \"RAIN\":[df[\"RAIN\"].sum()],\n",
    "                       \"W_SPEED\":[''],\n",
    "                       \"WINDHIGH\":[df[\"WINDHIGH\"].max()],\n",
    "                       \"TIME.2\":[''],\n",
    "                       \"DIR\":['']})\n",
    "new_rowdf"
   ]
  },
  {
   "cell_type": "code",
   "execution_count": 12,
   "id": "633144e3",
   "metadata": {},
   "outputs": [
    {
     "name": "stderr",
     "output_type": "stream",
     "text": [
      "C:\\Users\\User\\AppData\\Local\\Temp\\ipykernel_14272\\1715211546.py:1: FutureWarning: The frame.append method is deprecated and will be removed from pandas in a future version. Use pandas.concat instead.\n",
      "  df2=df.append(new_rowdf, ignore_index=False, verify_integrity=False, sort='365')\n",
      "C:\\Users\\User\\AppData\\Local\\Temp\\ipykernel_14272\\1715211546.py:1: FutureWarning: Passing non boolean values for sort is deprecated and will error in a future version!\n",
      "  df2=df.append(new_rowdf, ignore_index=False, verify_integrity=False, sort='365')\n"
     ]
    },
    {
     "data": {
      "text/html": [
       "<div>\n",
       "<style scoped>\n",
       "    .dataframe tbody tr th:only-of-type {\n",
       "        vertical-align: middle;\n",
       "    }\n",
       "\n",
       "    .dataframe tbody tr th {\n",
       "        vertical-align: top;\n",
       "    }\n",
       "\n",
       "    .dataframe thead th {\n",
       "        text-align: right;\n",
       "    }\n",
       "</style>\n",
       "<table border=\"1\" class=\"dataframe\">\n",
       "  <thead>\n",
       "    <tr style=\"text-align: right;\">\n",
       "      <th></th>\n",
       "      <th>CDD</th>\n",
       "      <th>DAY</th>\n",
       "      <th>DIR</th>\n",
       "      <th>HDD</th>\n",
       "      <th>HIGH</th>\n",
       "      <th>LOW</th>\n",
       "      <th>MONTH</th>\n",
       "      <th>RAIN</th>\n",
       "      <th>TEMP</th>\n",
       "      <th>TIME</th>\n",
       "      <th>TIME.1</th>\n",
       "      <th>TIME.2</th>\n",
       "      <th>WINDHIGH</th>\n",
       "      <th>W_SPEED</th>\n",
       "    </tr>\n",
       "  </thead>\n",
       "  <tbody>\n",
       "    <tr>\n",
       "      <th>0</th>\n",
       "      <td>0.0</td>\n",
       "      <td>1</td>\n",
       "      <td>N</td>\n",
       "      <td>13.9</td>\n",
       "      <td>7.2</td>\n",
       "      <td>2.6</td>\n",
       "      <td>JAN</td>\n",
       "      <td>0.0</td>\n",
       "      <td>4.40000</td>\n",
       "      <td>15:10</td>\n",
       "      <td>7:20</td>\n",
       "      <td>12:10</td>\n",
       "      <td>29.0</td>\n",
       "      <td>4.0</td>\n",
       "    </tr>\n",
       "    <tr>\n",
       "      <th>1</th>\n",
       "      <td>0.0</td>\n",
       "      <td>2</td>\n",
       "      <td>W</td>\n",
       "      <td>11.2</td>\n",
       "      <td>11.3</td>\n",
       "      <td>3.1</td>\n",
       "      <td>JAN</td>\n",
       "      <td>0.0</td>\n",
       "      <td>7.20000</td>\n",
       "      <td>14:40</td>\n",
       "      <td>0:40</td>\n",
       "      <td>20:40</td>\n",
       "      <td>24.1</td>\n",
       "      <td>2.7</td>\n",
       "    </tr>\n",
       "    <tr>\n",
       "      <th>2</th>\n",
       "      <td>0.0</td>\n",
       "      <td>3</td>\n",
       "      <td>SW</td>\n",
       "      <td>8.8</td>\n",
       "      <td>13.3</td>\n",
       "      <td>6.6</td>\n",
       "      <td>JAN</td>\n",
       "      <td>0.0</td>\n",
       "      <td>9.60000</td>\n",
       "      <td>14:50</td>\n",
       "      <td>8:20</td>\n",
       "      <td>14:20</td>\n",
       "      <td>30.6</td>\n",
       "      <td>4.5</td>\n",
       "    </tr>\n",
       "    <tr>\n",
       "      <th>3</th>\n",
       "      <td>0.0</td>\n",
       "      <td>4</td>\n",
       "      <td>SSW</td>\n",
       "      <td>7.7</td>\n",
       "      <td>14.3</td>\n",
       "      <td>7.6</td>\n",
       "      <td>JAN</td>\n",
       "      <td>0.0</td>\n",
       "      <td>10.70000</td>\n",
       "      <td>15:20</td>\n",
       "      <td>3:30</td>\n",
       "      <td>14:40</td>\n",
       "      <td>24.1</td>\n",
       "      <td>3.2</td>\n",
       "    </tr>\n",
       "    <tr>\n",
       "      <th>4</th>\n",
       "      <td>0.0</td>\n",
       "      <td>5</td>\n",
       "      <td>S</td>\n",
       "      <td>6.2</td>\n",
       "      <td>15.4</td>\n",
       "      <td>8.7</td>\n",
       "      <td>JAN</td>\n",
       "      <td>0.0</td>\n",
       "      <td>12.20000</td>\n",
       "      <td>13:50</td>\n",
       "      <td>7:50</td>\n",
       "      <td>0:00</td>\n",
       "      <td>56.3</td>\n",
       "      <td>7.7</td>\n",
       "    </tr>\n",
       "    <tr>\n",
       "      <th>...</th>\n",
       "      <td>...</td>\n",
       "      <td>...</td>\n",
       "      <td>...</td>\n",
       "      <td>...</td>\n",
       "      <td>...</td>\n",
       "      <td>...</td>\n",
       "      <td>...</td>\n",
       "      <td>...</td>\n",
       "      <td>...</td>\n",
       "      <td>...</td>\n",
       "      <td>...</td>\n",
       "      <td>...</td>\n",
       "      <td>...</td>\n",
       "      <td>...</td>\n",
       "    </tr>\n",
       "    <tr>\n",
       "      <th>361</th>\n",
       "      <td>0.0</td>\n",
       "      <td>28</td>\n",
       "      <td>S</td>\n",
       "      <td>5.3</td>\n",
       "      <td>14.9</td>\n",
       "      <td>11.3</td>\n",
       "      <td>DEC</td>\n",
       "      <td>6.6</td>\n",
       "      <td>13.00000</td>\n",
       "      <td>14:10</td>\n",
       "      <td>2:20</td>\n",
       "      <td>18:40</td>\n",
       "      <td>56.3</td>\n",
       "      <td>11.4</td>\n",
       "    </tr>\n",
       "    <tr>\n",
       "      <th>362</th>\n",
       "      <td>0.0</td>\n",
       "      <td>29</td>\n",
       "      <td>SSW</td>\n",
       "      <td>7.1</td>\n",
       "      <td>14.8</td>\n",
       "      <td>8.4</td>\n",
       "      <td>DEC</td>\n",
       "      <td>15.6</td>\n",
       "      <td>11.30000</td>\n",
       "      <td>14:40</td>\n",
       "      <td>5:30</td>\n",
       "      <td>13:10</td>\n",
       "      <td>37.0</td>\n",
       "      <td>4.8</td>\n",
       "    </tr>\n",
       "    <tr>\n",
       "      <th>363</th>\n",
       "      <td>0.0</td>\n",
       "      <td>30</td>\n",
       "      <td>SSW</td>\n",
       "      <td>8.4</td>\n",
       "      <td>13.1</td>\n",
       "      <td>7.8</td>\n",
       "      <td>DEC</td>\n",
       "      <td>0.2</td>\n",
       "      <td>9.90000</td>\n",
       "      <td>13:50</td>\n",
       "      <td>23:10</td>\n",
       "      <td>11:30</td>\n",
       "      <td>25.7</td>\n",
       "      <td>3.9</td>\n",
       "    </tr>\n",
       "    <tr>\n",
       "      <th>364</th>\n",
       "      <td>0.0</td>\n",
       "      <td>31</td>\n",
       "      <td>WNW</td>\n",
       "      <td>9.4</td>\n",
       "      <td>12.6</td>\n",
       "      <td>6.9</td>\n",
       "      <td>DEC</td>\n",
       "      <td>0.0</td>\n",
       "      <td>8.90000</td>\n",
       "      <td>14:20</td>\n",
       "      <td>4:50</td>\n",
       "      <td>10:00</td>\n",
       "      <td>25.7</td>\n",
       "      <td>4.3</td>\n",
       "    </tr>\n",
       "    <tr>\n",
       "      <th>0</th>\n",
       "      <td>1056.2</td>\n",
       "      <td></td>\n",
       "      <td></td>\n",
       "      <td>1318.4</td>\n",
       "      <td>42.1</td>\n",
       "      <td>-2.9</td>\n",
       "      <td></td>\n",
       "      <td>617.8</td>\n",
       "      <td>17.61589</td>\n",
       "      <td></td>\n",
       "      <td></td>\n",
       "      <td></td>\n",
       "      <td>64.4</td>\n",
       "      <td></td>\n",
       "    </tr>\n",
       "  </tbody>\n",
       "</table>\n",
       "<p>366 rows × 14 columns</p>\n",
       "</div>"
      ],
      "text/plain": [
       "        CDD DAY  DIR     HDD  HIGH   LOW MONTH   RAIN      TEMP   TIME TIME.1  \\\n",
       "0       0.0   1    N    13.9   7.2   2.6   JAN    0.0   4.40000  15:10   7:20   \n",
       "1       0.0   2    W    11.2  11.3   3.1   JAN    0.0   7.20000  14:40   0:40   \n",
       "2       0.0   3   SW     8.8  13.3   6.6   JAN    0.0   9.60000  14:50   8:20   \n",
       "3       0.0   4  SSW     7.7  14.3   7.6   JAN    0.0  10.70000  15:20   3:30   \n",
       "4       0.0   5    S     6.2  15.4   8.7   JAN    0.0  12.20000  13:50   7:50   \n",
       "..      ...  ..  ...     ...   ...   ...   ...    ...       ...    ...    ...   \n",
       "361     0.0  28    S     5.3  14.9  11.3   DEC    6.6  13.00000  14:10   2:20   \n",
       "362     0.0  29  SSW     7.1  14.8   8.4   DEC   15.6  11.30000  14:40   5:30   \n",
       "363     0.0  30  SSW     8.4  13.1   7.8   DEC    0.2   9.90000  13:50  23:10   \n",
       "364     0.0  31  WNW     9.4  12.6   6.9   DEC    0.0   8.90000  14:20   4:50   \n",
       "0    1056.2           1318.4  42.1  -2.9        617.8  17.61589                 \n",
       "\n",
       "    TIME.2  WINDHIGH W_SPEED  \n",
       "0    12:10      29.0     4.0  \n",
       "1    20:40      24.1     2.7  \n",
       "2    14:20      30.6     4.5  \n",
       "3    14:40      24.1     3.2  \n",
       "4     0:00      56.3     7.7  \n",
       "..     ...       ...     ...  \n",
       "361  18:40      56.3    11.4  \n",
       "362  13:10      37.0     4.8  \n",
       "363  11:30      25.7     3.9  \n",
       "364  10:00      25.7     4.3  \n",
       "0               64.4          \n",
       "\n",
       "[366 rows x 14 columns]"
      ]
     },
     "execution_count": 12,
     "metadata": {},
     "output_type": "execute_result"
    }
   ],
   "source": [
    "df2=df.append(new_rowdf, ignore_index=False, verify_integrity=False, sort='365')\n",
    "df2"
   ]
  },
  {
   "cell_type": "code",
   "execution_count": 13,
   "id": "67b46d02",
   "metadata": {},
   "outputs": [
    {
     "data": {
      "text/plain": [
       "['MONTH',\n",
       " 'DAY',\n",
       " 'TEMP',\n",
       " 'HIGH',\n",
       " 'TIME',\n",
       " 'LOW',\n",
       " 'TIME.1',\n",
       " 'HDD',\n",
       " 'CDD',\n",
       " 'RAIN',\n",
       " 'W_SPEED',\n",
       " 'WINDHIGH',\n",
       " 'TIME.2',\n",
       " 'DIR']"
      ]
     },
     "execution_count": 13,
     "metadata": {},
     "output_type": "execute_result"
    }
   ],
   "source": [
    "# we will reshape the columns in their original order\n",
    "cols = df2.columns.tolist()\n",
    "cols=['MONTH','DAY','TEMP','HIGH','TIME','LOW','TIME.1','HDD','CDD','RAIN','W_SPEED','WINDHIGH','TIME.2','DIR']\n",
    "cols"
   ]
  },
  {
   "cell_type": "code",
   "execution_count": 14,
   "id": "d4851a81",
   "metadata": {},
   "outputs": [
    {
     "data": {
      "text/html": [
       "<div>\n",
       "<style scoped>\n",
       "    .dataframe tbody tr th:only-of-type {\n",
       "        vertical-align: middle;\n",
       "    }\n",
       "\n",
       "    .dataframe tbody tr th {\n",
       "        vertical-align: top;\n",
       "    }\n",
       "\n",
       "    .dataframe thead th {\n",
       "        text-align: right;\n",
       "    }\n",
       "</style>\n",
       "<table border=\"1\" class=\"dataframe\">\n",
       "  <thead>\n",
       "    <tr style=\"text-align: right;\">\n",
       "      <th></th>\n",
       "      <th>MONTH</th>\n",
       "      <th>DAY</th>\n",
       "      <th>TEMP</th>\n",
       "      <th>HIGH</th>\n",
       "      <th>TIME</th>\n",
       "      <th>LOW</th>\n",
       "      <th>TIME.1</th>\n",
       "      <th>HDD</th>\n",
       "      <th>CDD</th>\n",
       "      <th>RAIN</th>\n",
       "      <th>W_SPEED</th>\n",
       "      <th>WINDHIGH</th>\n",
       "      <th>TIME.2</th>\n",
       "      <th>DIR</th>\n",
       "    </tr>\n",
       "  </thead>\n",
       "  <tbody>\n",
       "    <tr>\n",
       "      <th>0</th>\n",
       "      <td>JAN</td>\n",
       "      <td>1</td>\n",
       "      <td>4.40000</td>\n",
       "      <td>7.2</td>\n",
       "      <td>15:10</td>\n",
       "      <td>2.6</td>\n",
       "      <td>7:20</td>\n",
       "      <td>13.9</td>\n",
       "      <td>0.0</td>\n",
       "      <td>0.0</td>\n",
       "      <td>4.0</td>\n",
       "      <td>29.0</td>\n",
       "      <td>12:10</td>\n",
       "      <td>N</td>\n",
       "    </tr>\n",
       "    <tr>\n",
       "      <th>1</th>\n",
       "      <td>JAN</td>\n",
       "      <td>2</td>\n",
       "      <td>7.20000</td>\n",
       "      <td>11.3</td>\n",
       "      <td>14:40</td>\n",
       "      <td>3.1</td>\n",
       "      <td>0:40</td>\n",
       "      <td>11.2</td>\n",
       "      <td>0.0</td>\n",
       "      <td>0.0</td>\n",
       "      <td>2.7</td>\n",
       "      <td>24.1</td>\n",
       "      <td>20:40</td>\n",
       "      <td>W</td>\n",
       "    </tr>\n",
       "    <tr>\n",
       "      <th>2</th>\n",
       "      <td>JAN</td>\n",
       "      <td>3</td>\n",
       "      <td>9.60000</td>\n",
       "      <td>13.3</td>\n",
       "      <td>14:50</td>\n",
       "      <td>6.6</td>\n",
       "      <td>8:20</td>\n",
       "      <td>8.8</td>\n",
       "      <td>0.0</td>\n",
       "      <td>0.0</td>\n",
       "      <td>4.5</td>\n",
       "      <td>30.6</td>\n",
       "      <td>14:20</td>\n",
       "      <td>SW</td>\n",
       "    </tr>\n",
       "    <tr>\n",
       "      <th>3</th>\n",
       "      <td>JAN</td>\n",
       "      <td>4</td>\n",
       "      <td>10.70000</td>\n",
       "      <td>14.3</td>\n",
       "      <td>15:20</td>\n",
       "      <td>7.6</td>\n",
       "      <td>3:30</td>\n",
       "      <td>7.7</td>\n",
       "      <td>0.0</td>\n",
       "      <td>0.0</td>\n",
       "      <td>3.2</td>\n",
       "      <td>24.1</td>\n",
       "      <td>14:40</td>\n",
       "      <td>SSW</td>\n",
       "    </tr>\n",
       "    <tr>\n",
       "      <th>4</th>\n",
       "      <td>JAN</td>\n",
       "      <td>5</td>\n",
       "      <td>12.20000</td>\n",
       "      <td>15.4</td>\n",
       "      <td>13:50</td>\n",
       "      <td>8.7</td>\n",
       "      <td>7:50</td>\n",
       "      <td>6.2</td>\n",
       "      <td>0.0</td>\n",
       "      <td>0.0</td>\n",
       "      <td>7.7</td>\n",
       "      <td>56.3</td>\n",
       "      <td>0:00</td>\n",
       "      <td>S</td>\n",
       "    </tr>\n",
       "    <tr>\n",
       "      <th>...</th>\n",
       "      <td>...</td>\n",
       "      <td>...</td>\n",
       "      <td>...</td>\n",
       "      <td>...</td>\n",
       "      <td>...</td>\n",
       "      <td>...</td>\n",
       "      <td>...</td>\n",
       "      <td>...</td>\n",
       "      <td>...</td>\n",
       "      <td>...</td>\n",
       "      <td>...</td>\n",
       "      <td>...</td>\n",
       "      <td>...</td>\n",
       "      <td>...</td>\n",
       "    </tr>\n",
       "    <tr>\n",
       "      <th>361</th>\n",
       "      <td>DEC</td>\n",
       "      <td>28</td>\n",
       "      <td>13.00000</td>\n",
       "      <td>14.9</td>\n",
       "      <td>14:10</td>\n",
       "      <td>11.3</td>\n",
       "      <td>2:20</td>\n",
       "      <td>5.3</td>\n",
       "      <td>0.0</td>\n",
       "      <td>6.6</td>\n",
       "      <td>11.4</td>\n",
       "      <td>56.3</td>\n",
       "      <td>18:40</td>\n",
       "      <td>S</td>\n",
       "    </tr>\n",
       "    <tr>\n",
       "      <th>362</th>\n",
       "      <td>DEC</td>\n",
       "      <td>29</td>\n",
       "      <td>11.30000</td>\n",
       "      <td>14.8</td>\n",
       "      <td>14:40</td>\n",
       "      <td>8.4</td>\n",
       "      <td>5:30</td>\n",
       "      <td>7.1</td>\n",
       "      <td>0.0</td>\n",
       "      <td>15.6</td>\n",
       "      <td>4.8</td>\n",
       "      <td>37.0</td>\n",
       "      <td>13:10</td>\n",
       "      <td>SSW</td>\n",
       "    </tr>\n",
       "    <tr>\n",
       "      <th>363</th>\n",
       "      <td>DEC</td>\n",
       "      <td>30</td>\n",
       "      <td>9.90000</td>\n",
       "      <td>13.1</td>\n",
       "      <td>13:50</td>\n",
       "      <td>7.8</td>\n",
       "      <td>23:10</td>\n",
       "      <td>8.4</td>\n",
       "      <td>0.0</td>\n",
       "      <td>0.2</td>\n",
       "      <td>3.9</td>\n",
       "      <td>25.7</td>\n",
       "      <td>11:30</td>\n",
       "      <td>SSW</td>\n",
       "    </tr>\n",
       "    <tr>\n",
       "      <th>364</th>\n",
       "      <td>DEC</td>\n",
       "      <td>31</td>\n",
       "      <td>8.90000</td>\n",
       "      <td>12.6</td>\n",
       "      <td>14:20</td>\n",
       "      <td>6.9</td>\n",
       "      <td>4:50</td>\n",
       "      <td>9.4</td>\n",
       "      <td>0.0</td>\n",
       "      <td>0.0</td>\n",
       "      <td>4.3</td>\n",
       "      <td>25.7</td>\n",
       "      <td>10:00</td>\n",
       "      <td>WNW</td>\n",
       "    </tr>\n",
       "    <tr>\n",
       "      <th>0</th>\n",
       "      <td></td>\n",
       "      <td></td>\n",
       "      <td>17.61589</td>\n",
       "      <td>42.1</td>\n",
       "      <td></td>\n",
       "      <td>-2.9</td>\n",
       "      <td></td>\n",
       "      <td>1318.4</td>\n",
       "      <td>1056.2</td>\n",
       "      <td>617.8</td>\n",
       "      <td></td>\n",
       "      <td>64.4</td>\n",
       "      <td></td>\n",
       "      <td></td>\n",
       "    </tr>\n",
       "  </tbody>\n",
       "</table>\n",
       "<p>366 rows × 14 columns</p>\n",
       "</div>"
      ],
      "text/plain": [
       "    MONTH DAY      TEMP  HIGH   TIME   LOW TIME.1     HDD     CDD   RAIN  \\\n",
       "0     JAN   1   4.40000   7.2  15:10   2.6   7:20    13.9     0.0    0.0   \n",
       "1     JAN   2   7.20000  11.3  14:40   3.1   0:40    11.2     0.0    0.0   \n",
       "2     JAN   3   9.60000  13.3  14:50   6.6   8:20     8.8     0.0    0.0   \n",
       "3     JAN   4  10.70000  14.3  15:20   7.6   3:30     7.7     0.0    0.0   \n",
       "4     JAN   5  12.20000  15.4  13:50   8.7   7:50     6.2     0.0    0.0   \n",
       "..    ...  ..       ...   ...    ...   ...    ...     ...     ...    ...   \n",
       "361   DEC  28  13.00000  14.9  14:10  11.3   2:20     5.3     0.0    6.6   \n",
       "362   DEC  29  11.30000  14.8  14:40   8.4   5:30     7.1     0.0   15.6   \n",
       "363   DEC  30   9.90000  13.1  13:50   7.8  23:10     8.4     0.0    0.2   \n",
       "364   DEC  31   8.90000  12.6  14:20   6.9   4:50     9.4     0.0    0.0   \n",
       "0              17.61589  42.1         -2.9         1318.4  1056.2  617.8   \n",
       "\n",
       "    W_SPEED  WINDHIGH TIME.2  DIR  \n",
       "0       4.0      29.0  12:10    N  \n",
       "1       2.7      24.1  20:40    W  \n",
       "2       4.5      30.6  14:20   SW  \n",
       "3       3.2      24.1  14:40  SSW  \n",
       "4       7.7      56.3   0:00    S  \n",
       "..      ...       ...    ...  ...  \n",
       "361    11.4      56.3  18:40    S  \n",
       "362     4.8      37.0  13:10  SSW  \n",
       "363     3.9      25.7  11:30  SSW  \n",
       "364     4.3      25.7  10:00  WNW  \n",
       "0                64.4              \n",
       "\n",
       "[366 rows x 14 columns]"
      ]
     },
     "execution_count": 14,
     "metadata": {},
     "output_type": "execute_result"
    }
   ],
   "source": [
    "df2=df2[cols]\n",
    "df2"
   ]
  },
  {
   "cell_type": "code",
   "execution_count": 15,
   "id": "16999e7d",
   "metadata": {},
   "outputs": [
    {
     "name": "stdout",
     "output_type": "stream",
     "text": [
      "<class 'pandas.core.frame.DataFrame'>\n",
      "Int64Index: 366 entries, 0 to 0\n",
      "Data columns (total 14 columns):\n",
      " #   Column    Non-Null Count  Dtype  \n",
      "---  ------    --------------  -----  \n",
      " 0   MONTH     366 non-null    object \n",
      " 1   DAY       366 non-null    object \n",
      " 2   TEMP      366 non-null    float64\n",
      " 3   HIGH      366 non-null    float64\n",
      " 4   TIME      366 non-null    object \n",
      " 5   LOW       366 non-null    float64\n",
      " 6   TIME.1    366 non-null    object \n",
      " 7   HDD       366 non-null    float64\n",
      " 8   CDD       366 non-null    float64\n",
      " 9   RAIN      366 non-null    float64\n",
      " 10  W_SPEED   366 non-null    object \n",
      " 11  WINDHIGH  366 non-null    float64\n",
      " 12  TIME.2    366 non-null    object \n",
      " 13  DIR       366 non-null    object \n",
      "dtypes: float64(7), object(7)\n",
      "memory usage: 42.9+ KB\n"
     ]
    }
   ],
   "source": [
    "# No differences in data types\n",
    "df2.info() "
   ]
  },
  {
   "cell_type": "markdown",
   "id": "fbd7baa3",
   "metadata": {},
   "source": [
    "## Exploratory data and visualization "
   ]
  },
  {
   "cell_type": "markdown",
   "id": "afe2b438",
   "metadata": {},
   "source": [
    "####  Mean and Standard Deviation for Temperature"
   ]
  },
  {
   "cell_type": "code",
   "execution_count": 16,
   "id": "5e01d3d1",
   "metadata": {},
   "outputs": [
    {
     "name": "stdout",
     "output_type": "stream",
     "text": [
      "The mean is:  16.8\n",
      "The standard deviation is :  7.415421974835979\n"
     ]
    }
   ],
   "source": [
    "print(\"The mean is: \",df['TEMP'].median())\n",
    "print(\"The standard deviation is : \",df['TEMP'].std())"
   ]
  },
  {
   "cell_type": "markdown",
   "id": "00ba8637",
   "metadata": {},
   "source": [
    "####  How many days the wind blew from each of the addresses?"
   ]
  },
  {
   "cell_type": "code",
   "execution_count": 17,
   "id": "34c9b797",
   "metadata": {},
   "outputs": [
    {
     "data": {
      "text/plain": [
       "DIR\n",
       "         1\n",
       "E        5\n",
       "ENE      2\n",
       "ESE     15\n",
       "N      103\n",
       "NE       4\n",
       "NNW      9\n",
       "NW      14\n",
       "S       31\n",
       "SE      65\n",
       "SSE     11\n",
       "SSW     22\n",
       "SW      28\n",
       "W       19\n",
       "WNW     20\n",
       "WSW     17\n",
       "Name: DAY, dtype: int64"
      ]
     },
     "execution_count": 17,
     "metadata": {},
     "output_type": "execute_result"
    }
   ],
   "source": [
    "dir=df2.groupby('DIR')['DAY'].count()\n",
    "dir"
   ]
  },
  {
   "cell_type": "code",
   "execution_count": 18,
   "id": "7dd264b3",
   "metadata": {},
   "outputs": [
    {
     "data": {
      "text/html": [
       "<div>\n",
       "<style scoped>\n",
       "    .dataframe tbody tr th:only-of-type {\n",
       "        vertical-align: middle;\n",
       "    }\n",
       "\n",
       "    .dataframe tbody tr th {\n",
       "        vertical-align: top;\n",
       "    }\n",
       "\n",
       "    .dataframe thead th {\n",
       "        text-align: right;\n",
       "    }\n",
       "</style>\n",
       "<table border=\"1\" class=\"dataframe\">\n",
       "  <thead>\n",
       "    <tr style=\"text-align: right;\">\n",
       "      <th></th>\n",
       "      <th>DIR</th>\n",
       "      <th>DAY</th>\n",
       "    </tr>\n",
       "  </thead>\n",
       "  <tbody>\n",
       "    <tr>\n",
       "      <th>1</th>\n",
       "      <td>E</td>\n",
       "      <td>5</td>\n",
       "    </tr>\n",
       "    <tr>\n",
       "      <th>2</th>\n",
       "      <td>ENE</td>\n",
       "      <td>2</td>\n",
       "    </tr>\n",
       "    <tr>\n",
       "      <th>3</th>\n",
       "      <td>ESE</td>\n",
       "      <td>15</td>\n",
       "    </tr>\n",
       "    <tr>\n",
       "      <th>4</th>\n",
       "      <td>N</td>\n",
       "      <td>103</td>\n",
       "    </tr>\n",
       "    <tr>\n",
       "      <th>5</th>\n",
       "      <td>NE</td>\n",
       "      <td>4</td>\n",
       "    </tr>\n",
       "    <tr>\n",
       "      <th>6</th>\n",
       "      <td>NNW</td>\n",
       "      <td>9</td>\n",
       "    </tr>\n",
       "    <tr>\n",
       "      <th>7</th>\n",
       "      <td>NW</td>\n",
       "      <td>14</td>\n",
       "    </tr>\n",
       "    <tr>\n",
       "      <th>8</th>\n",
       "      <td>S</td>\n",
       "      <td>31</td>\n",
       "    </tr>\n",
       "    <tr>\n",
       "      <th>9</th>\n",
       "      <td>SE</td>\n",
       "      <td>65</td>\n",
       "    </tr>\n",
       "    <tr>\n",
       "      <th>10</th>\n",
       "      <td>SSE</td>\n",
       "      <td>11</td>\n",
       "    </tr>\n",
       "    <tr>\n",
       "      <th>11</th>\n",
       "      <td>SSW</td>\n",
       "      <td>22</td>\n",
       "    </tr>\n",
       "    <tr>\n",
       "      <th>12</th>\n",
       "      <td>SW</td>\n",
       "      <td>28</td>\n",
       "    </tr>\n",
       "    <tr>\n",
       "      <th>13</th>\n",
       "      <td>W</td>\n",
       "      <td>19</td>\n",
       "    </tr>\n",
       "    <tr>\n",
       "      <th>14</th>\n",
       "      <td>WNW</td>\n",
       "      <td>20</td>\n",
       "    </tr>\n",
       "    <tr>\n",
       "      <th>15</th>\n",
       "      <td>WSW</td>\n",
       "      <td>17</td>\n",
       "    </tr>\n",
       "  </tbody>\n",
       "</table>\n",
       "</div>"
      ],
      "text/plain": [
       "    DIR  DAY\n",
       "1     E    5\n",
       "2   ENE    2\n",
       "3   ESE   15\n",
       "4     N  103\n",
       "5    NE    4\n",
       "6   NNW    9\n",
       "7    NW   14\n",
       "8     S   31\n",
       "9    SE   65\n",
       "10  SSE   11\n",
       "11  SSW   22\n",
       "12   SW   28\n",
       "13    W   19\n",
       "14  WNW   20\n",
       "15  WSW   17"
      ]
     },
     "execution_count": 18,
     "metadata": {},
     "output_type": "execute_result"
    }
   ],
   "source": [
    "new_dir=pd.DataFrame(dir)\n",
    "new_dir.reset_index(inplace=True)\n",
    "new_dir = new_dir.drop(0)\n",
    "new_dir['DAY'] = new_dir['DAY'].astype('int')\n",
    "new_dir"
   ]
  },
  {
   "cell_type": "code",
   "execution_count": 20,
   "id": "c65f5b6d",
   "metadata": {},
   "outputs": [
    {
     "data": {
      "image/png": "[encoded data removed]",
      "text/plain": [
       "<Figure size 800x1000 with 1 Axes>"
      ]
     },
     "metadata": {},
     "output_type": "display_data"
    }
   ],
   "source": [
    "# This pie chart represents the distribution of the days in wind direction. \n",
    "\n",
    "plt.figure(figsize=(8,10))\n",
    "plt.pie(new_dir['DAY'],labels=new_dir['DIR'],shadow=True,autopct='%1.1f%%',startangle=40)\n",
    "plt.legend(title='Directions')\n",
    "plt.show()"
   ]
  },
  {
   "cell_type": "markdown",
   "id": "5273b454",
   "metadata": {},
   "source": [
    "### The time with most maximum temperatures and the time with most minimum temperatures in the year."
   ]
  },
  {
   "cell_type": "code",
   "execution_count": 21,
   "id": "db4df646",
   "metadata": {},
   "outputs": [
    {
     "data": {
      "text/html": [
       "<div>\n",
       "<style scoped>\n",
       "    .dataframe tbody tr th:only-of-type {\n",
       "        vertical-align: middle;\n",
       "    }\n",
       "\n",
       "    .dataframe tbody tr th {\n",
       "        vertical-align: top;\n",
       "    }\n",
       "\n",
       "    .dataframe thead th {\n",
       "        text-align: right;\n",
       "    }\n",
       "</style>\n",
       "<table border=\"1\" class=\"dataframe\">\n",
       "  <thead>\n",
       "    <tr style=\"text-align: right;\">\n",
       "      <th></th>\n",
       "      <th>HIGH</th>\n",
       "      <th>TIME</th>\n",
       "      <th>TIME.1</th>\n",
       "      <th>TIME.2</th>\n",
       "    </tr>\n",
       "  </thead>\n",
       "  <tbody>\n",
       "    <tr>\n",
       "      <th>180</th>\n",
       "      <td>42.1</td>\n",
       "      <td>16:40</td>\n",
       "      <td>4:50</td>\n",
       "      <td>16:40</td>\n",
       "    </tr>\n",
       "    <tr>\n",
       "      <th>182</th>\n",
       "      <td>41.7</td>\n",
       "      <td>16:30</td>\n",
       "      <td>6:30</td>\n",
       "      <td>17:10</td>\n",
       "    </tr>\n",
       "    <tr>\n",
       "      <th>181</th>\n",
       "      <td>40.1</td>\n",
       "      <td>13:40</td>\n",
       "      <td>4:20</td>\n",
       "      <td>15:00</td>\n",
       "    </tr>\n",
       "    <tr>\n",
       "      <th>179</th>\n",
       "      <td>37.4</td>\n",
       "      <td>16:20</td>\n",
       "      <td>5:50</td>\n",
       "      <td>18:50</td>\n",
       "    </tr>\n",
       "    <tr>\n",
       "      <th>260</th>\n",
       "      <td>37.3</td>\n",
       "      <td>16:10</td>\n",
       "      <td>3:10</td>\n",
       "      <td>13:00</td>\n",
       "    </tr>\n",
       "  </tbody>\n",
       "</table>\n",
       "</div>"
      ],
      "text/plain": [
       "     HIGH   TIME TIME.1 TIME.2\n",
       "180  42.1  16:40   4:50  16:40\n",
       "182  41.7  16:30   6:30  17:10\n",
       "181  40.1  13:40   4:20  15:00\n",
       "179  37.4  16:20   5:50  18:50\n",
       "260  37.3  16:10   3:10  13:00"
      ]
     },
     "execution_count": 21,
     "metadata": {},
     "output_type": "execute_result"
    }
   ],
   "source": [
    "high_hour= pd.DataFrame({\"HIGH\":df['HIGH'], \"TIME\": df['TIME'],\"TIME.1\": df['TIME.1'],\"TIME.2\": df['TIME.2']})\n",
    "high_hour=high_hour.sort_values(by=\"HIGH\",ascending=False)\n",
    "high_hour.head()"
   ]
  },
  {
   "cell_type": "code",
   "execution_count": 22,
   "id": "b88e6025",
   "metadata": {},
   "outputs": [
    {
     "data": {
      "text/html": [
       "<div>\n",
       "<style scoped>\n",
       "    .dataframe tbody tr th:only-of-type {\n",
       "        vertical-align: middle;\n",
       "    }\n",
       "\n",
       "    .dataframe tbody tr th {\n",
       "        vertical-align: top;\n",
       "    }\n",
       "\n",
       "    .dataframe thead th {\n",
       "        text-align: right;\n",
       "    }\n",
       "</style>\n",
       "<table border=\"1\" class=\"dataframe\">\n",
       "  <thead>\n",
       "    <tr style=\"text-align: right;\">\n",
       "      <th></th>\n",
       "      <th>LOW</th>\n",
       "      <th>TIME</th>\n",
       "      <th>TIME.1</th>\n",
       "      <th>TIME.2</th>\n",
       "    </tr>\n",
       "  </thead>\n",
       "  <tbody>\n",
       "    <tr>\n",
       "      <th>8</th>\n",
       "      <td>-2.9</td>\n",
       "      <td>13:20</td>\n",
       "      <td>6:00</td>\n",
       "      <td>16:20</td>\n",
       "    </tr>\n",
       "    <tr>\n",
       "      <th>7</th>\n",
       "      <td>-2.5</td>\n",
       "      <td>13:00</td>\n",
       "      <td>6:10</td>\n",
       "      <td>4:40</td>\n",
       "    </tr>\n",
       "    <tr>\n",
       "      <th>9</th>\n",
       "      <td>-1.6</td>\n",
       "      <td>21:00</td>\n",
       "      <td>1:10</td>\n",
       "      <td>13:50</td>\n",
       "    </tr>\n",
       "    <tr>\n",
       "      <th>6</th>\n",
       "      <td>-1.3</td>\n",
       "      <td>0:10</td>\n",
       "      <td>0:00</td>\n",
       "      <td>18:20</td>\n",
       "    </tr>\n",
       "    <tr>\n",
       "      <th>27</th>\n",
       "      <td>1.1</td>\n",
       "      <td>14:50</td>\n",
       "      <td>2:10</td>\n",
       "      <td>12:00</td>\n",
       "    </tr>\n",
       "  </tbody>\n",
       "</table>\n",
       "</div>"
      ],
      "text/plain": [
       "    LOW   TIME TIME.1 TIME.2\n",
       "8  -2.9  13:20   6:00  16:20\n",
       "7  -2.5  13:00   6:10   4:40\n",
       "9  -1.6  21:00   1:10  13:50\n",
       "6  -1.3   0:10   0:00  18:20\n",
       "27  1.1  14:50   2:10  12:00"
      ]
     },
     "execution_count": 22,
     "metadata": {},
     "output_type": "execute_result"
    }
   ],
   "source": [
    "low_hour = pd.DataFrame({\"LOW\":df['LOW'], \"TIME\": df['TIME'],\"TIME.1\": df['TIME.1'],\"TIME.2\": df['TIME.2']})\n",
    "low_hour=low_hour.sort_values(by=\"LOW\",ascending=True)\n",
    "low_hour.head()"
   ]
  },
  {
   "cell_type": "code",
   "execution_count": 26,
   "id": "e77016f1",
   "metadata": {},
   "outputs": [
    {
     "name": "stdout",
     "output_type": "stream",
     "text": [
      "The maximum high temperature observed at:  16:40\n",
      "The minimum temperature observed at 13:20 noon\n"
     ]
    }
   ],
   "source": [
    "print(\"The maximum high temperature observed at: \",high_hour.iloc[0,1]) \n",
    "print(\"The minimum temperature observed at\", low_hour.iloc[0,1] ,\"noon\")"
   ]
  },
  {
   "cell_type": "markdown",
   "id": "442e8749",
   "metadata": {},
   "source": [
    "###  The day with the largest range in variation - changes in temperature"
   ]
  },
  {
   "cell_type": "code",
   "execution_count": 28,
   "id": "fe7aff55",
   "metadata": {},
   "outputs": [
    {
     "name": "stdout",
     "output_type": "stream",
     "text": [
      "    MONTH  DAY  TEMP  HIGH   TIME   LOW TIME.1  HDD   CDD  RAIN  W_SPEED  \\\n",
      "179   JUN   29  31.4  37.4  16:20  25.6   5:50  0.0  13.1   0.0      3.9   \n",
      "180   JUN   30  34.3  42.1  16:40  27.2   4:50  0.0  15.7   0.0      4.8   \n",
      "181   JUL    1  35.6  40.1  13:40  30.8   4:20  0.0  17.2   0.0      4.8   \n",
      "182   JUL    2  35.9  41.7  16:30  31.1   6:30  0.0  17.6   0.0      4.5   \n",
      "190   JUL   10  30.2  33.6  16:20  27.2   4:30  0.0  11.8   0.0      7.7   \n",
      "\n",
      "     WINDHIGH TIME.2  DIR  \n",
      "179      20.9  18:50  WNW  \n",
      "180      30.6  16:40   SW  \n",
      "181      24.1  15:00   SE  \n",
      "182      27.4  17:10   SW  \n",
      "190      38.6   9:30   NE  \n",
      "The day with the largest temperature range variation is shown in the table above, with the temperature varying between  27.2 to 34.3 and 42.1 Celsius degrees \n"
     ]
    }
   ],
   "source": [
    "High_temp=df.loc[df['TEMP'] > 30]\n",
    "df.sort_values(by='TEMP', ascending =False)\n",
    "print(High_temp.head(5))\n",
    "print(\"The day with the largest temperature range variation is shown in the table above, \\\n",
    "with the temperature varying between \", High_temp.iloc[1,5], \"to\", High_temp.iloc[1,2], \"and\",\n",
    "High_temp.iloc[1,3],\"Celsius degrees \")"
   ]
  },
  {
   "cell_type": "markdown",
   "id": "40ba5a1b",
   "metadata": {},
   "source": [
    "### From which direction did it blow most days of the year? "
   ]
  },
  {
   "cell_type": "code",
   "execution_count": 29,
   "id": "cb7bae57",
   "metadata": {},
   "outputs": [
    {
     "name": "stdout",
     "output_type": "stream",
     "text": [
      "    DIR  DAY\n",
      "0     E    5\n",
      "1   ENE    2\n",
      "2   ESE   15\n",
      "3     N  103\n",
      "4    NE    4\n",
      "5   NNW    9\n",
      "6    NW   14\n",
      "7     S   31\n",
      "8    SE   65\n",
      "9   SSE   11\n",
      "10  SSW   22\n",
      "11   SW   28\n",
      "12    W   19\n",
      "13  WNW   20\n",
      "14  WSW   17\n",
      "The direction that blew most \n",
      "days of the year was from the North: \n",
      "  DIR  DAY\n",
      "3   N  103\n"
     ]
    }
   ],
   "source": [
    "wind_dir=pd.DataFrame(df.groupby('DIR')['DAY'].count())\n",
    "wind_dir.reset_index(inplace=True)\n",
    "print(wind_dir)\n",
    "wind_dir=wind_dir.loc[wind_dir['DAY'] ==wind_dir['DAY'].max()]\n",
    "print(\"The direction that blew most \\ndays of the year was from the North: \")\n",
    "print(wind_dir)"
   ]
  },
  {
   "cell_type": "markdown",
   "id": "1d2efe83",
   "metadata": {},
   "source": [
    "### The day with the highest wind speed"
   ]
  },
  {
   "cell_type": "code",
   "execution_count": 31,
   "id": "ab0337c3",
   "metadata": {},
   "outputs": [
    {
     "name": "stdout",
     "output_type": "stream",
     "text": [
      " The day with the highest wind speed was North (N)\n"
     ]
    },
    {
     "data": {
      "text/html": [
       "<div>\n",
       "<style scoped>\n",
       "    .dataframe tbody tr th:only-of-type {\n",
       "        vertical-align: middle;\n",
       "    }\n",
       "\n",
       "    .dataframe tbody tr th {\n",
       "        vertical-align: top;\n",
       "    }\n",
       "\n",
       "    .dataframe thead th {\n",
       "        text-align: right;\n",
       "    }\n",
       "</style>\n",
       "<table border=\"1\" class=\"dataframe\">\n",
       "  <thead>\n",
       "    <tr style=\"text-align: right;\">\n",
       "      <th></th>\n",
       "      <th>W_SPEED</th>\n",
       "      <th>DIR</th>\n",
       "    </tr>\n",
       "  </thead>\n",
       "  <tbody>\n",
       "    <tr>\n",
       "      <th>89</th>\n",
       "      <td>15.8</td>\n",
       "      <td>N</td>\n",
       "    </tr>\n",
       "  </tbody>\n",
       "</table>\n",
       "</div>"
      ],
      "text/plain": [
       "    W_SPEED DIR\n",
       "89     15.8   N"
      ]
     },
     "execution_count": 31,
     "metadata": {},
     "output_type": "execute_result"
    }
   ],
   "source": [
    "max_wind_speed=df.groupby('DIR')['W_SPEED'].max()\n",
    "max_wind_speed=df.loc[df['W_SPEED'] ==df['W_SPEED'].max()]\n",
    "print(\" The day with the highest wind speed was North (N)\")\n",
    "max_wind_speed[['W_SPEED','DIR']]"
   ]
  },
  {
   "cell_type": "markdown",
   "id": "f2b1b9e9",
   "metadata": {},
   "source": [
    "### What was the average temperature for each wind direction?"
   ]
  },
  {
   "cell_type": "code",
   "execution_count": 41,
   "id": "3560cb28",
   "metadata": {},
   "outputs": [
    {
     "data": {
      "text/html": [
       "<div>\n",
       "<style scoped>\n",
       "    .dataframe tbody tr th:only-of-type {\n",
       "        vertical-align: middle;\n",
       "    }\n",
       "\n",
       "    .dataframe tbody tr th {\n",
       "        vertical-align: top;\n",
       "    }\n",
       "\n",
       "    .dataframe thead th {\n",
       "        text-align: right;\n",
       "    }\n",
       "</style>\n",
       "<table border=\"1\" class=\"dataframe\">\n",
       "  <thead>\n",
       "    <tr style=\"text-align: right;\">\n",
       "      <th></th>\n",
       "      <th>DIR</th>\n",
       "      <th>TEMP</th>\n",
       "    </tr>\n",
       "  </thead>\n",
       "  <tbody>\n",
       "    <tr>\n",
       "      <th>0</th>\n",
       "      <td>E</td>\n",
       "      <td>15.040000</td>\n",
       "    </tr>\n",
       "    <tr>\n",
       "      <th>1</th>\n",
       "      <td>ENE</td>\n",
       "      <td>13.000000</td>\n",
       "    </tr>\n",
       "    <tr>\n",
       "      <th>2</th>\n",
       "      <td>ESE</td>\n",
       "      <td>16.266667</td>\n",
       "    </tr>\n",
       "    <tr>\n",
       "      <th>3</th>\n",
       "      <td>N</td>\n",
       "      <td>18.579612</td>\n",
       "    </tr>\n",
       "    <tr>\n",
       "      <th>4</th>\n",
       "      <td>NE</td>\n",
       "      <td>15.050000</td>\n",
       "    </tr>\n",
       "    <tr>\n",
       "      <th>5</th>\n",
       "      <td>NNW</td>\n",
       "      <td>18.588889</td>\n",
       "    </tr>\n",
       "    <tr>\n",
       "      <th>6</th>\n",
       "      <td>NW</td>\n",
       "      <td>11.864286</td>\n",
       "    </tr>\n",
       "    <tr>\n",
       "      <th>7</th>\n",
       "      <td>S</td>\n",
       "      <td>15.945161</td>\n",
       "    </tr>\n",
       "    <tr>\n",
       "      <th>8</th>\n",
       "      <td>SE</td>\n",
       "      <td>18.989231</td>\n",
       "    </tr>\n",
       "    <tr>\n",
       "      <th>9</th>\n",
       "      <td>SSE</td>\n",
       "      <td>19.063636</td>\n",
       "    </tr>\n",
       "    <tr>\n",
       "      <th>10</th>\n",
       "      <td>SSW</td>\n",
       "      <td>15.613636</td>\n",
       "    </tr>\n",
       "    <tr>\n",
       "      <th>11</th>\n",
       "      <td>SW</td>\n",
       "      <td>21.039286</td>\n",
       "    </tr>\n",
       "    <tr>\n",
       "      <th>12</th>\n",
       "      <td>W</td>\n",
       "      <td>16.026316</td>\n",
       "    </tr>\n",
       "    <tr>\n",
       "      <th>13</th>\n",
       "      <td>WNW</td>\n",
       "      <td>16.460000</td>\n",
       "    </tr>\n",
       "    <tr>\n",
       "      <th>14</th>\n",
       "      <td>WSW</td>\n",
       "      <td>16.041176</td>\n",
       "    </tr>\n",
       "  </tbody>\n",
       "</table>\n",
       "</div>"
      ],
      "text/plain": [
       "    DIR       TEMP\n",
       "0     E  15.040000\n",
       "1   ENE  13.000000\n",
       "2   ESE  16.266667\n",
       "3     N  18.579612\n",
       "4    NE  15.050000\n",
       "5   NNW  18.588889\n",
       "6    NW  11.864286\n",
       "7     S  15.945161\n",
       "8    SE  18.989231\n",
       "9   SSE  19.063636\n",
       "10  SSW  15.613636\n",
       "11   SW  21.039286\n",
       "12    W  16.026316\n",
       "13  WNW  16.460000\n",
       "14  WSW  16.041176"
      ]
     },
     "execution_count": 41,
     "metadata": {},
     "output_type": "execute_result"
    }
   ],
   "source": [
    "newdf=df.groupby(['DIR']).mean()\n",
    "newdf.reset_index(inplace=True)\n",
    "newdf=pd.DataFrame().assign(DIR=newdf['DIR'], TEMP=newdf['TEMP'])\n",
    "newdf"
   ]
  },
  {
   "cell_type": "code",
   "execution_count": 56,
   "id": "d9d11ab9",
   "metadata": {},
   "outputs": [
    {
     "data": {
      "text/html": [
       "<div>\n",
       "<style scoped>\n",
       "    .dataframe tbody tr th:only-of-type {\n",
       "        vertical-align: middle;\n",
       "    }\n",
       "\n",
       "    .dataframe tbody tr th {\n",
       "        vertical-align: top;\n",
       "    }\n",
       "\n",
       "    .dataframe thead th {\n",
       "        text-align: right;\n",
       "    }\n",
       "</style>\n",
       "<table border=\"1\" class=\"dataframe\">\n",
       "  <thead>\n",
       "    <tr style=\"text-align: right;\">\n",
       "      <th></th>\n",
       "      <th>DIR</th>\n",
       "      <th>TEMP</th>\n",
       "    </tr>\n",
       "  </thead>\n",
       "  <tbody>\n",
       "    <tr>\n",
       "      <th>6</th>\n",
       "      <td>NW</td>\n",
       "      <td>11.864286</td>\n",
       "    </tr>\n",
       "    <tr>\n",
       "      <th>1</th>\n",
       "      <td>ENE</td>\n",
       "      <td>13.000000</td>\n",
       "    </tr>\n",
       "    <tr>\n",
       "      <th>0</th>\n",
       "      <td>E</td>\n",
       "      <td>15.040000</td>\n",
       "    </tr>\n",
       "    <tr>\n",
       "      <th>4</th>\n",
       "      <td>NE</td>\n",
       "      <td>15.050000</td>\n",
       "    </tr>\n",
       "    <tr>\n",
       "      <th>10</th>\n",
       "      <td>SSW</td>\n",
       "      <td>15.613636</td>\n",
       "    </tr>\n",
       "    <tr>\n",
       "      <th>7</th>\n",
       "      <td>S</td>\n",
       "      <td>15.945161</td>\n",
       "    </tr>\n",
       "    <tr>\n",
       "      <th>12</th>\n",
       "      <td>W</td>\n",
       "      <td>16.026316</td>\n",
       "    </tr>\n",
       "    <tr>\n",
       "      <th>14</th>\n",
       "      <td>WSW</td>\n",
       "      <td>16.041176</td>\n",
       "    </tr>\n",
       "    <tr>\n",
       "      <th>2</th>\n",
       "      <td>ESE</td>\n",
       "      <td>16.266667</td>\n",
       "    </tr>\n",
       "    <tr>\n",
       "      <th>13</th>\n",
       "      <td>WNW</td>\n",
       "      <td>16.460000</td>\n",
       "    </tr>\n",
       "    <tr>\n",
       "      <th>3</th>\n",
       "      <td>N</td>\n",
       "      <td>18.579612</td>\n",
       "    </tr>\n",
       "    <tr>\n",
       "      <th>5</th>\n",
       "      <td>NNW</td>\n",
       "      <td>18.588889</td>\n",
       "    </tr>\n",
       "    <tr>\n",
       "      <th>8</th>\n",
       "      <td>SE</td>\n",
       "      <td>18.989231</td>\n",
       "    </tr>\n",
       "    <tr>\n",
       "      <th>9</th>\n",
       "      <td>SSE</td>\n",
       "      <td>19.063636</td>\n",
       "    </tr>\n",
       "    <tr>\n",
       "      <th>11</th>\n",
       "      <td>SW</td>\n",
       "      <td>21.039286</td>\n",
       "    </tr>\n",
       "  </tbody>\n",
       "</table>\n",
       "</div>"
      ],
      "text/plain": [
       "    DIR       TEMP\n",
       "6    NW  11.864286\n",
       "1   ENE  13.000000\n",
       "0     E  15.040000\n",
       "4    NE  15.050000\n",
       "10  SSW  15.613636\n",
       "7     S  15.945161\n",
       "12    W  16.026316\n",
       "14  WSW  16.041176\n",
       "2   ESE  16.266667\n",
       "13  WNW  16.460000\n",
       "3     N  18.579612\n",
       "5   NNW  18.588889\n",
       "8    SE  18.989231\n",
       "9   SSE  19.063636\n",
       "11   SW  21.039286"
      ]
     },
     "execution_count": 56,
     "metadata": {},
     "output_type": "execute_result"
    }
   ],
   "source": [
    "sort_newdf=newdf.sort_values(\"TEMP\")\n",
    "sort_newdf"
   ]
  },
  {
   "cell_type": "markdown",
   "id": "10da5cd4",
   "metadata": {},
   "source": [
    "### The winds addresses with the highest and lowest average temperature."
   ]
  },
  {
   "cell_type": "code",
   "execution_count": 57,
   "id": "fab27f17",
   "metadata": {},
   "outputs": [
    {
     "data": {
      "text/html": [
       "<div>\n",
       "<style scoped>\n",
       "    .dataframe tbody tr th:only-of-type {\n",
       "        vertical-align: middle;\n",
       "    }\n",
       "\n",
       "    .dataframe tbody tr th {\n",
       "        vertical-align: top;\n",
       "    }\n",
       "\n",
       "    .dataframe thead th {\n",
       "        text-align: right;\n",
       "    }\n",
       "</style>\n",
       "<table border=\"1\" class=\"dataframe\">\n",
       "  <thead>\n",
       "    <tr style=\"text-align: right;\">\n",
       "      <th></th>\n",
       "      <th>DIR</th>\n",
       "      <th>TEMP</th>\n",
       "      <th>avg_temps</th>\n",
       "    </tr>\n",
       "  </thead>\n",
       "  <tbody>\n",
       "    <tr>\n",
       "      <th>6</th>\n",
       "      <td>NW</td>\n",
       "      <td>11.864286</td>\n",
       "      <td>Lowest</td>\n",
       "    </tr>\n",
       "    <tr>\n",
       "      <th>11</th>\n",
       "      <td>SW</td>\n",
       "      <td>21.039286</td>\n",
       "      <td>Highest</td>\n",
       "    </tr>\n",
       "  </tbody>\n",
       "</table>\n",
       "</div>"
      ],
      "text/plain": [
       "   DIR       TEMP avg_temps\n",
       "6   NW  11.864286    Lowest\n",
       "11  SW  21.039286   Highest"
      ]
     },
     "execution_count": 57,
     "metadata": {},
     "output_type": "execute_result"
    }
   ],
   "source": [
    "avg_temps = ['Lowest','Highest']\n",
    "sort_newdf=sort_newdf.drop(sort_newdf.index[1:14])\n",
    "sort_newdf['avg_temps']=avg_temps\n",
    "sort_newdf"
   ]
  },
  {
   "cell_type": "code",
   "execution_count": 62,
   "id": "7c82fb48",
   "metadata": {},
   "outputs": [
    {
     "data": {
      "image/png": "[encoded data removed]",
      "text/plain": [
       "<Figure size 700x400 with 1 Axes>"
      ]
     },
     "metadata": {},
     "output_type": "display_data"
    }
   ],
   "source": [
    "month_plot=df.groupby(['MONTH']).sum()\n",
    "plt.figure(figsize=(7,4))\n",
    "month_plot['RAIN'].plot(kind='bar', x='MONTH', y='RAIN')\n",
    "plt.title(label=\"Rain per month\",color=\"navy\")\n",
    "plt.rcdefaults()\n",
    "plt.rcParams.update({'axes.facecolor':'AliceBlue'})\n",
    "plt.show()"
   ]
  },
  {
   "cell_type": "markdown",
   "id": "3f85de17",
   "metadata": {},
   "source": [
    "### Each visualization represents a season ( days versus temperatures )where the temperatures are visualized with colored lines. High with red , low with blue and temp with green."
   ]
  },
  {
   "cell_type": "code",
   "execution_count": 63,
   "id": "ad4be057",
   "metadata": {},
   "outputs": [],
   "source": [
    "winter = df[df['MONTH'].isin(['DEC', 'JAN', 'FEB'])].reset_index(drop=True)"
   ]
  },
  {
   "cell_type": "code",
   "execution_count": 64,
   "id": "067d5df0",
   "metadata": {},
   "outputs": [
    {
     "data": {
      "text/plain": [
       "[<matplotlib.lines.Line2D at 0x21df906fb80>,\n",
       " <matplotlib.lines.Line2D at 0x21df906fee0>,\n",
       " <matplotlib.lines.Line2D at 0x21df90688b0>]"
      ]
     },
     "execution_count": 64,
     "metadata": {},
     "output_type": "execute_result"
    },
    {
     "data": {
      "image/png": "[encoded data removed]",
      "text/plain": [
       "<Figure size 700x400 with 1 Axes>"
      ]
     },
     "metadata": {},
     "output_type": "display_data"
    }
   ],
   "source": [
    "plt.rcdefaults()\n",
    "plt.rcParams.update({'axes.facecolor':'#F0F0FF'})\n",
    "plt.style.use('_mpl-gallery')\n",
    "plt.figure(figsize=(7,4))\n",
    "plt.title(label=\"Winter Temperature\",fontsize=20,color=\"DarkMagenta\")\n",
    "plt.plot(winter['HIGH'],'r',winter['LOW'],'b',winter['TEMP'],'g',linewidth=0.7)"
   ]
  },
  {
   "cell_type": "code",
   "execution_count": 65,
   "id": "4fb00844",
   "metadata": {},
   "outputs": [],
   "source": [
    "spring = df[df['MONTH'].isin(['MAR', 'APR', 'MAY'])].reset_index(drop=True)"
   ]
  },
  {
   "cell_type": "code",
   "execution_count": 66,
   "id": "ff8c2fb4",
   "metadata": {},
   "outputs": [
    {
     "data": {
      "text/plain": [
       "[<matplotlib.lines.Line2D at 0x21df8fb9a60>,\n",
       " <matplotlib.lines.Line2D at 0x21df8fb9d60>,\n",
       " <matplotlib.lines.Line2D at 0x21df8fb9ee0>]"
      ]
     },
     "execution_count": 66,
     "metadata": {},
     "output_type": "execute_result"
    },
    {
     "data": {
      "image/png": "[encoded data removed]",
      "text/plain": [
       "<Figure size 700x400 with 1 Axes>"
      ]
     },
     "metadata": {},
     "output_type": "display_data"
    }
   ],
   "source": [
    "plt.rcdefaults()\n",
    "plt.rcParams.update({'axes.facecolor':'#F0F0FF'})\n",
    "plt.style.use('_mpl-gallery')\n",
    "plt.figure(figsize=(7,4))\n",
    "plt.title(label=\"Spring Temperature\",fontsize=20,color=\"LimeGreen\")\n",
    "plt.plot(spring['HIGH'],'r',spring['LOW'],'b',spring['TEMP'],'g',linewidth=0.7)"
   ]
  },
  {
   "cell_type": "code",
   "execution_count": 67,
   "id": "80682423",
   "metadata": {},
   "outputs": [],
   "source": [
    "summer = df[df['MONTH'].isin(['JUN', 'JUL', 'AUG'])].reset_index(drop=True)"
   ]
  },
  {
   "cell_type": "code",
   "execution_count": 68,
   "id": "bdf4e8dc",
   "metadata": {},
   "outputs": [
    {
     "data": {
      "text/plain": [
       "[<matplotlib.lines.Line2D at 0x21df8f62610>,\n",
       " <matplotlib.lines.Line2D at 0x21df8f623a0>,\n",
       " <matplotlib.lines.Line2D at 0x21df8e3e670>]"
      ]
     },
     "execution_count": 68,
     "metadata": {},
     "output_type": "execute_result"
    },
    {
     "data": {
      "image/png": "[encoded data removed]",
      "text/plain": [
       "<Figure size 700x400 with 1 Axes>"
      ]
     },
     "metadata": {},
     "output_type": "display_data"
    }
   ],
   "source": [
    "plt.rcdefaults()\n",
    "plt.rcParams.update({'axes.facecolor':'#F0F0FF'})\n",
    "plt.style.use('_mpl-gallery')\n",
    "plt.figure(figsize=(7,4))\n",
    "plt.title(label=\"Summer Temperature\",fontsize=20,color=\"DarkTurquoise\")\n",
    "plt.plot(summer['HIGH'],'r',summer['LOW'],'b',summer['TEMP'],'g',linewidth=0.7)"
   ]
  },
  {
   "cell_type": "code",
   "execution_count": 69,
   "id": "28124cf8",
   "metadata": {
    "scrolled": false
   },
   "outputs": [
    {
     "data": {
      "text/plain": [
       "[<matplotlib.lines.Line2D at 0x21df8cfca60>,\n",
       " <matplotlib.lines.Line2D at 0x21df8cfc850>,\n",
       " <matplotlib.lines.Line2D at 0x21df8cfc790>]"
      ]
     },
     "execution_count": 69,
     "metadata": {},
     "output_type": "execute_result"
    },
    {
     "data": {
      "image/png": "[encoded data removed]",
      "text/plain": [
       "<Figure size 700x400 with 1 Axes>"
      ]
     },
     "metadata": {},
     "output_type": "display_data"
    }
   ],
   "source": [
    "# creating the autumn season\n",
    "autumn= df.iloc[243:244+90]\n",
    "\n",
    "plt.rcdefaults()\n",
    "plt.rcParams.update({'axes.facecolor':'#F0F0FF'})\n",
    "plt.style.use('_mpl-gallery') \n",
    "plt.figure(figsize=(7,4))\n",
    "plt.title(label=\"Autumn Temperature\",fontsize=20,color=\"Chocolate\")\n",
    "plt.plot(autumn['HIGH'],'r',autumn['LOW'],'b',autumn['TEMP'],'g',linewidth=0.7)"
   ]
  },
  {
   "cell_type": "markdown",
   "id": "36385eec",
   "metadata": {},
   "source": [
    "##  Prediction with linear regression\n"
   ]
  },
  {
   "cell_type": "markdown",
   "id": "0460c1fa",
   "metadata": {},
   "source": [
    "#### We will use linear regression for the temperatures of the december in order to predict the temperature at 25 / 12 for the next year"
   ]
  },
  {
   "cell_type": "code",
   "execution_count": 73,
   "id": "72368d1c",
   "metadata": {},
   "outputs": [],
   "source": [
    "x=25 # the day we want to predict\n",
    "\n",
    "dec=df[df['MONTH'] == 'DEC']\n",
    "xy=np.multiply(dec['DAY'],dec['TEMP'])\n",
    "sx=dec['DAY'].sum()\n",
    "sy=dec['TEMP'].sum()\n",
    "sxy=xy.sum()\n",
    "mx=dec['DAY'].mean()\n",
    "my=dec['TEMP'].mean()\n",
    "x2=np.multiply(dec['DAY'],dec['DAY'])\n",
    "sx2=np.sum(x2)\n",
    "n=len(dec['DAY'])"
   ]
  },
  {
   "cell_type": "code",
   "execution_count": 74,
   "id": "a4b190ec",
   "metadata": {},
   "outputs": [
    {
     "name": "stdout",
     "output_type": "stream",
     "text": [
      "14.081290322580639 -0.18048387096774163\n"
     ]
    }
   ],
   "source": [
    "b=(n*sxy-sx*sy)/(n*sx2-sx**2)\n",
    "a=my-b*mx\n",
    "print(a,b)"
   ]
  },
  {
   "cell_type": "code",
   "execution_count": 75,
   "id": "2aa2a045",
   "metadata": {},
   "outputs": [
    {
     "name": "stdout",
     "output_type": "stream",
     "text": [
      "the temperature at 25/12/2018 is expected to be:  9.57\n"
     ]
    }
   ],
   "source": [
    "Y = a + b*x\n",
    "print(\"the temperature at 25/12/2018 is expected to be: \" , round(Y, 2))"
   ]
  },
  {
   "cell_type": "code",
   "execution_count": 76,
   "id": "a7435a7b",
   "metadata": {
    "scrolled": false
   },
   "outputs": [
    {
     "data": {
      "text/plain": [
       "array([-0.18048387, 14.08129032])"
      ]
     },
     "execution_count": 76,
     "metadata": {},
     "output_type": "execute_result"
    }
   ],
   "source": [
    "ab=np.polyfit(dec['DAY'],dec['TEMP'],deg=1)\n",
    "ab"
   ]
  },
  {
   "cell_type": "code",
   "execution_count": 77,
   "id": "f87169a5",
   "metadata": {},
   "outputs": [
    {
     "data": {
      "image/png": "[encoded data removed]",
      "text/plain": [
       "<Figure size 700x400 with 1 Axes>"
      ]
     },
     "metadata": {},
     "output_type": "display_data"
    }
   ],
   "source": [
    "with plt.style.context('Solarize_Light2'):\n",
    "    plt.figure(figsize=(7,4))\n",
    "    line=np.polyval(ab,dec['DAY'])\n",
    "    plt.scatter(x=dec['DAY'], y=dec['TEMP'])\n",
    "    plt.plot(dec['DAY'],line,'g')"
   ]
  },
  {
   "cell_type": "markdown",
   "id": "8fde6d68",
   "metadata": {},
   "source": [
    "#### Rain status for the 2017 year "
   ]
  },
  {
   "cell_type": "code",
   "execution_count": 71,
   "id": "5c6d66b4",
   "metadata": {},
   "outputs": [
    {
     "name": "stdout",
     "output_type": "stream",
     "text": [
      "heavy precipitation\n"
     ]
    }
   ],
   "source": [
    "def weather(n):\n",
    "    #this function gets as an argument the sum of the column rain and returns a message about the rain status\n",
    "    if n<400:\n",
    "        print(\"lack of rain\")\n",
    "    elif n>=400 and n<600:\n",
    "        print(\"Satisfactory amounts of rain\")\n",
    "    else:\n",
    "        print(\"heavy precipitation\")\n",
    "        \n",
    "weather(df2.iloc[365,-5])"
   ]
  },
  {
   "cell_type": "code",
   "execution_count": null,
   "id": "d7831129",
   "metadata": {},
   "outputs": [],
   "source": []
  }
 ],
 "metadata": {
  "kernelspec": {
   "display_name": "Python 3 (ipykernel)",
   "language": "python",
   "name": "python3"
  },
  "language_info": {
   "codemirror_mode": {
    "name": "ipython",
    "version": 3
   },
   "file_extension": ".py",
   "mimetype": "text/x-python",
   "name": "python",
   "nbconvert_exporter": "python",
   "pygments_lexer": "ipython3",
   "version": "3.9.13"
  }
 },
 "nbformat": 4,
 "nbformat_minor": 5
}
